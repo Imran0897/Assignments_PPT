{
  "nbformat": 4,
  "nbformat_minor": 0,
  "metadata": {
    "colab": {
      "provenance": [],
      "authorship_tag": "ABX9TyNSfRWLyDkTJqBLBQUf5/hz",
      "include_colab_link": true
    },
    "kernelspec": {
      "name": "python3",
      "display_name": "Python 3"
    },
    "language_info": {
      "name": "python"
    }
  },
  "cells": [
    {
      "cell_type": "markdown",
      "metadata": {
        "id": "view-in-github",
        "colab_type": "text"
      },
      "source": [
        "<a href=\"https://colab.research.google.com/github/Imran0897/Assignments_PPT/blob/main/Assignment_1.ipynb\" target=\"_parent\"><img src=\"https://colab.research.google.com/assets/colab-badge.svg\" alt=\"Open In Colab\"/></a>"
      ]
    },
    {
      "cell_type": "markdown",
      "source": [
        "1. Write a Python program to reverse a string without using any built-in string reversal functions."
      ],
      "metadata": {
        "id": "G4s4hPJWcUdK"
      }
    },
    {
      "cell_type": "code",
      "source": [
        "# Sol\n",
        "\n",
        "def rev_str(s):\n",
        "  result = \"\"\n",
        "\n",
        "  for i in s:\n",
        "    result = i + result\n",
        "\n",
        "  return result"
      ],
      "metadata": {
        "id": "jdBAJxlAcckt"
      },
      "execution_count": 1,
      "outputs": []
    },
    {
      "cell_type": "markdown",
      "source": [
        "2. Implement a function to check if a given string is a palindrome."
      ],
      "metadata": {
        "id": "lnkq0twodivO"
      }
    },
    {
      "cell_type": "code",
      "source": [
        "# sol\n",
        "\n",
        "def is_palindrome(s):\n",
        "\n",
        "  result = \"\"\n",
        "\n",
        "  for i in s:\n",
        "    result = i + result\n",
        "\n",
        "  if result == s:\n",
        "    return \"String is a palindrome\"\n",
        "  else:\n",
        "    return \"string is not a palindrome\""
      ],
      "metadata": {
        "id": "QslDs2-UddJY"
      },
      "execution_count": 3,
      "outputs": []
    },
    {
      "cell_type": "markdown",
      "source": [
        "3. Write a program to find the largest element in a given list."
      ],
      "metadata": {
        "id": "AHLItrFsexvO"
      }
    },
    {
      "cell_type": "code",
      "source": [
        "# sol\n",
        "\n",
        "def find_largest_num(l):\n",
        "  max = l[0]\n",
        "\n",
        "  for i in range(len(l)):\n",
        "    if l[i]>max:\n",
        "      max=l[i]\n",
        "    else:\n",
        "      pass\n",
        "  return max"
      ],
      "metadata": {
        "id": "KFnOQ4VKerxO"
      },
      "execution_count": 12,
      "outputs": []
    },
    {
      "cell_type": "markdown",
      "source": [
        "4. Implement a function to count the occurrence of each element in a list."
      ],
      "metadata": {
        "id": "NHs7kP4CfmGO"
      }
    },
    {
      "cell_type": "code",
      "source": [
        "# sol\n",
        "\n",
        "def occurrence_count(l):\n",
        "  dict = {}\n",
        "  for i in set(l):\n",
        "    dict[i]=l.count(i)\n",
        "\n",
        "  return dict"
      ],
      "metadata": {
        "id": "wTKsBsTPfS-i"
      },
      "execution_count": 22,
      "outputs": []
    },
    {
      "cell_type": "markdown",
      "source": [
        "5. Write a Python program to find the second largest number in a list."
      ],
      "metadata": {
        "id": "8azxt3RTgrxG"
      }
    },
    {
      "cell_type": "code",
      "source": [
        "# sol\n",
        "\n",
        "def sec_larg(l):\n",
        "  max = l[0]\n",
        "  for i in range(len(l)):\n",
        "    if l[i]>max:\n",
        "      max = l[i]\n",
        "  l.remove(max)\n",
        "  sec_max = l[0]\n",
        "  for j in range(len(l)):\n",
        "    if l[j]>sec_max:\n",
        "      sec_max = l[j]\n",
        "  return sec_max\n"
      ],
      "metadata": {
        "id": "bTDuw1ONgPb1"
      },
      "execution_count": 32,
      "outputs": []
    },
    {
      "cell_type": "markdown",
      "source": [
        "6. Implement a function to remove duplicate elements from a list."
      ],
      "metadata": {
        "id": "aH5uMJQ9iN7Z"
      }
    },
    {
      "cell_type": "code",
      "source": [
        "# ans\n",
        "\n",
        "def remove_duplicate(l):\n",
        "\n",
        "  return list(set(l))"
      ],
      "metadata": {
        "id": "ye4cto6-h132"
      },
      "execution_count": 35,
      "outputs": []
    },
    {
      "cell_type": "markdown",
      "source": [
        "7. Write a program to calculate the factorial of a given number."
      ],
      "metadata": {
        "id": "j7Z1xUBdiwG9"
      }
    },
    {
      "cell_type": "code",
      "source": [
        "# sol\n",
        "\n",
        "def factorial(n):\n",
        "  result = 1\n",
        "  for i in range(1,n+1):\n",
        "\n",
        "    result = result * i\n",
        "  return result"
      ],
      "metadata": {
        "id": "xH7uT9jcio6R"
      },
      "execution_count": 37,
      "outputs": []
    },
    {
      "cell_type": "markdown",
      "source": [
        "8. Implement a function to check if a given number is prime."
      ],
      "metadata": {
        "id": "0_LaoOJcjTRf"
      }
    },
    {
      "cell_type": "code",
      "source": [
        "# sol\n",
        "\n",
        "def is_prime(n):\n",
        "\n",
        "  for i in range(2,n):\n",
        "    if n%i ==0:\n",
        "      print(False)\n",
        "      break\n",
        "  else:\n",
        "    print(True)"
      ],
      "metadata": {
        "id": "72_3sLMmjSkZ"
      },
      "execution_count": 45,
      "outputs": []
    },
    {
      "cell_type": "markdown",
      "source": [
        "9. Write a Python program to sort a list of integers in ascending order."
      ],
      "metadata": {
        "id": "WKlUMzaPkMg8"
      }
    },
    {
      "cell_type": "code",
      "source": [
        "# sol\n",
        "def sort_asc(l):\n",
        "  l.sort()\n",
        "  return l"
      ],
      "metadata": {
        "id": "A9PfG3iMj-Fz"
      },
      "execution_count": 52,
      "outputs": []
    },
    {
      "cell_type": "markdown",
      "source": [
        "10. Implement a function to find the sum of all numbers in a list."
      ],
      "metadata": {
        "id": "B40TKI3jlCDv"
      }
    },
    {
      "cell_type": "code",
      "source": [
        "# sol\n",
        "\n",
        "def sum_list_num(l):\n",
        "  sum = 0\n",
        "\n",
        "  for i in l:\n",
        "    sum = sum + i\n",
        "  return sum"
      ],
      "metadata": {
        "id": "7_lQy-JpkucC"
      },
      "execution_count": 53,
      "outputs": []
    },
    {
      "cell_type": "markdown",
      "source": [
        "11. Write a program to find the common elements between two lists."
      ],
      "metadata": {
        "id": "L2lBFotElp_j"
      }
    },
    {
      "cell_type": "code",
      "source": [
        "# sol\n",
        "\n",
        "def common_ele(l1,l2):\n",
        "\n",
        "  l_common = []\n",
        "\n",
        "  for i in l1:\n",
        "    if i in l2:\n",
        "      l_common.append(i)\n",
        "  return l_common"
      ],
      "metadata": {
        "id": "3E0J0Y0glljk"
      },
      "execution_count": 55,
      "outputs": []
    },
    {
      "cell_type": "markdown",
      "source": [
        "12. Implement a function to check if a given string is an anagram of another string."
      ],
      "metadata": {
        "id": "PbSn8Xj4mSKQ"
      }
    },
    {
      "cell_type": "code",
      "source": [
        "# sol\n",
        "\n",
        "def is_anagram(s1,s2):\n",
        "\n",
        "  for i in s1:\n",
        "    if i not in s2:\n",
        "      print(False)\n",
        "      break\n",
        "  else:\n",
        "    print(True)\n"
      ],
      "metadata": {
        "id": "yl1LGY7TmQH9"
      },
      "execution_count": 57,
      "outputs": []
    },
    {
      "cell_type": "markdown",
      "source": [
        "13. Write a Python program to generate all permutations of a given string."
      ],
      "metadata": {
        "id": "8I71V9epnKHz"
      }
    },
    {
      "cell_type": "code",
      "source": [
        "# sol\n",
        "\n",
        "def get_permutation(string, i=0):\n",
        "\n",
        "    if i == len(string):\n",
        "        print(\"\".join(string))\n",
        "\n",
        "    for j in range(i, len(string)):\n",
        "\n",
        "        words = [c for c in string]\n",
        "\n",
        "        # swap\n",
        "        words[i], words[j] = words[j], words[i]\n",
        "\n",
        "        get_permutation(words, i + 1)\n",
        "\n",
        "print(get_permutation('yup'))\n"
      ],
      "metadata": {
        "id": "2yQhvoPwnDW1"
      },
      "execution_count": null,
      "outputs": []
    },
    {
      "cell_type": "markdown",
      "source": [
        "14. Implement a function to calculate the Fibonacci sequence up to a given number of terms."
      ],
      "metadata": {
        "id": "lSo-Zzxi0SfG"
      }
    },
    {
      "cell_type": "code",
      "source": [
        "# sol\n",
        "\n",
        "def fib(n):\n",
        "  a = 0\n",
        "  b = 1\n",
        "\n",
        "  for i in range(n):\n",
        "    if i ==0 or i ==1:\n",
        "      print(i)\n",
        "    elif i > 1:\n",
        "      c = a + b\n",
        "      a,b = b,c\n",
        "      print(b)\n",
        ""
      ],
      "metadata": {
        "id": "9N52gXx2zu5O"
      },
      "execution_count": 71,
      "outputs": []
    },
    {
      "cell_type": "markdown",
      "source": [
        "15. Write a program to find the median of a list of numbers."
      ],
      "metadata": {
        "id": "0SqwSg7A1rm5"
      }
    },
    {
      "cell_type": "code",
      "source": [
        "def get_median(l):\n",
        "  l.sort()\n",
        "\n",
        "  n = len(l)\n",
        "  if n%2==0:\n",
        "    print((l[((n-1)//2)]+l[((n+1)//2)])/2)\n",
        "  else:\n",
        "    print(l[((n+1)//2)])"
      ],
      "metadata": {
        "id": "cCGCmsCi004V"
      },
      "execution_count": 77,
      "outputs": []
    },
    {
      "cell_type": "markdown",
      "source": [
        "16. Implement a function to check if a given list is sorted in non-decreasing order."
      ],
      "metadata": {
        "id": "AlU7H6yx3wq7"
      }
    },
    {
      "cell_type": "code",
      "source": [
        "# sol\n",
        "\n",
        "def sorted_no_desc(l):\n",
        "  for i in range(len(l)-1):\n",
        "    if l[i]>l[i+1]:\n",
        "      print(False)\n",
        "      break\n",
        "  else:\n",
        "    print(True)"
      ],
      "metadata": {
        "id": "1D6caDo43Zg4"
      },
      "execution_count": 85,
      "outputs": []
    },
    {
      "cell_type": "markdown",
      "source": [
        "17. Write a Python program to find the intersection of two lists."
      ],
      "metadata": {
        "id": "9IEJyLnu4y3B"
      }
    },
    {
      "cell_type": "code",
      "source": [
        "# sol\n",
        "\n",
        "def find_intersection(list1, list2):\n",
        "\n",
        "    set1 = set(list1)\n",
        "    set2 = set(list2)\n",
        "    intersection = set1.intersection(set2)\n",
        "    intersection_list = list(intersection)\n",
        "\n",
        "    return intersection_list"
      ],
      "metadata": {
        "id": "0gkvhucD4lLv"
      },
      "execution_count": 87,
      "outputs": []
    },
    {
      "cell_type": "markdown",
      "source": [
        " 18. Implement a function to find the maximum subarray sum in a given list.\n"
      ],
      "metadata": {
        "id": "ITmwFh8X5PXs"
      }
    },
    {
      "cell_type": "code",
      "source": [
        "def find_maximum_subarray_sum(nums):\n",
        "    current_sum = 0\n",
        "    max_sum = float('-inf')\n",
        "\n",
        "    for num in nums:\n",
        "        current_sum = max(num, current_sum + num)\n",
        "        max_sum = max(max_sum, current_sum)\n",
        "\n",
        "    return max_sum\n",
        "\n"
      ],
      "metadata": {
        "colab": {
          "base_uri": "https://localhost:8080/"
        },
        "id": "tfh1BqVj5GVl",
        "outputId": "d3770e69-25d0-499c-ccfc-3bbbbf7f28e9"
      },
      "execution_count": 88,
      "outputs": [
        {
          "output_type": "stream",
          "name": "stdout",
          "text": [
            "6\n"
          ]
        }
      ]
    },
    {
      "cell_type": "markdown",
      "source": [
        "19. Write a program to remove all vowels from a given string."
      ],
      "metadata": {
        "id": "doFMDNnP_Nge"
      }
    },
    {
      "cell_type": "code",
      "source": [
        "def remove_vowels(string):\n",
        "    vowels = \"aeiouAEIOU\"\n",
        "    vowels_removed = \"\"\n",
        "\n",
        "    for char in string:\n",
        "        if char not in vowels:\n",
        "            vowels_removed += char\n",
        "\n",
        "    return vowels_removed\n",
        "\n"
      ],
      "metadata": {
        "id": "bjxpjV5B_Ynp"
      },
      "execution_count": null,
      "outputs": []
    },
    {
      "cell_type": "markdown",
      "source": [
        "20. Implement a function to reverse the order of words in a given sentence."
      ],
      "metadata": {
        "id": "lwXb83VXACRS"
      }
    },
    {
      "cell_type": "code",
      "source": [
        "def reverse_sentence(sentence):\n",
        "    words = sentence.split()\n",
        "    reversed_words = words[::-1]\n",
        "    reversed_sentence = ' '.join(reversed_words)\n",
        "    return reversed_sentence"
      ],
      "metadata": {
        "id": "1uLmw8IjAF2k"
      },
      "execution_count": null,
      "outputs": []
    },
    {
      "cell_type": "markdown",
      "source": [
        "21. Write a Python program to check if two strings are anagrams of each other."
      ],
      "metadata": {
        "id": "S9DtMsMPASuL"
      }
    },
    {
      "cell_type": "code",
      "source": [
        "def are_anagrams(string1, string2):\n",
        "\n",
        "    string1 = string1.replace(\" \", \"\").lower()\n",
        "    string2 = string2.replace(\" \", \"\").lower()\n",
        "\n",
        "    if sorted(string1) == sorted(string2):\n",
        "      return True\n",
        "    else:\n",
        "      return False\n"
      ],
      "metadata": {
        "id": "A9ahje3vAGYB"
      },
      "execution_count": 93,
      "outputs": []
    },
    {
      "cell_type": "markdown",
      "source": [
        "22. Implement a function to find the first non-repeating character in a string."
      ],
      "metadata": {
        "id": "MxgzGWb4Auep"
      }
    },
    {
      "cell_type": "code",
      "source": [
        "def find_first_non_repeating_char(string):\n",
        "    char_count = {}\n",
        "    string = string.lower()\n",
        "\n",
        "    for char in string:\n",
        "        char_count[char] = char_count.get(char, 0) + 1\n",
        "\n",
        "\n",
        "    for char in string:\n",
        "        if char_count[char] == 1:\n",
        "            return char\n",
        "    return None\n",
        "\n"
      ],
      "metadata": {
        "id": "nHyOqAlnAGf7"
      },
      "execution_count": 97,
      "outputs": []
    },
    {
      "cell_type": "markdown",
      "source": [
        "23. Write a program to find the prime factors of a given number."
      ],
      "metadata": {
        "id": "EoJaDXyyBqex"
      }
    },
    {
      "cell_type": "code",
      "source": [
        "def find_prime_factors(number):\n",
        "    prime_factors = []\n",
        "    divisor = 2\n",
        "\n",
        "    while divisor <= number:\n",
        "        if number % divisor == 0:\n",
        "          for i in range(2,divisor):\n",
        "            if number% i ==0:\n",
        "              break\n",
        "\n",
        "          prime_factors.append(divisor)\n",
        "          number //= divisor\n",
        "        else:\n",
        "            divisor += 1\n",
        "\n",
        "    return prime_factors\n"
      ],
      "metadata": {
        "id": "mI4rTSTiBQHC"
      },
      "execution_count": 105,
      "outputs": []
    },
    {
      "cell_type": "markdown",
      "source": [
        "24. Implement a function to check if a given number is a power of two."
      ],
      "metadata": {
        "id": "e9KGf295EQ_b"
      }
    },
    {
      "cell_type": "code",
      "source": [
        "def is_power_of_two(number):\n",
        "    if number <= 0:\n",
        "        return False\n",
        "    count = bin(number).count('1')\n",
        "\n",
        "    return count == 1\n"
      ],
      "metadata": {
        "id": "f68LDtkhDT8q"
      },
      "execution_count": 111,
      "outputs": []
    },
    {
      "cell_type": "markdown",
      "source": [
        "25. Write a Python program to merge two sorted lists into a single sorted list."
      ],
      "metadata": {
        "id": "6BYvxVuLEx9D"
      }
    },
    {
      "cell_type": "code",
      "source": [
        "def merge_sorted_lists(list1, list2):\n",
        "    merged_list = []\n",
        "    i = 0\n",
        "    j = 0\n",
        "\n",
        "    while i < len(list1) and j < len(list2):\n",
        "        if list1[i] < list2[j]:\n",
        "            merged_list.append(list1[i])\n",
        "            i += 1\n",
        "        else:\n",
        "            merged_list.append(list2[j])\n",
        "            j += 1\n",
        "    while i < len(list1):\n",
        "        merged_list.append(list1[i])\n",
        "        i += 1\n",
        "\n",
        "    while j < len(list2):\n",
        "        merged_list.append(list2[j])\n",
        "        j += 1\n",
        "\n",
        "    return merged_list\n",
        "\n",
        "\n"
      ],
      "metadata": {
        "id": "hNxuK796EhPC"
      },
      "execution_count": 114,
      "outputs": []
    },
    {
      "cell_type": "markdown",
      "source": [
        "26. Implement a function to find the mode of a list of numbers."
      ],
      "metadata": {
        "id": "g68SCvu4FQ_G"
      }
    },
    {
      "cell_type": "code",
      "source": [
        "from collections import Counter\n",
        "\n",
        "def find_mode(numbers):\n",
        "    counts = Counter(numbers)\n",
        "\n",
        "    max_count = max(counts.values())\n",
        "    mode = [num for num, count in counts.items() if count == max_count]\n",
        "\n",
        "    return mode"
      ],
      "metadata": {
        "id": "4UKVgJgNE15A"
      },
      "execution_count": 115,
      "outputs": []
    },
    {
      "cell_type": "markdown",
      "source": [
        "27. Write a program to find the greatest common divisor (GCD) of two numbers."
      ],
      "metadata": {
        "id": "LT5mjq07FjWG"
      }
    },
    {
      "cell_type": "code",
      "source": [
        "def find_gcd(a, b):\n",
        "    while b != 0:\n",
        "        a, b = b, a % b\n",
        "    return a"
      ],
      "metadata": {
        "id": "sxpYMZFsFiOs"
      },
      "execution_count": 117,
      "outputs": []
    },
    {
      "cell_type": "markdown",
      "source": [
        "28. Implement a function to calculate the square root of a given number."
      ],
      "metadata": {
        "id": "pSgpKgWAF6AK"
      }
    },
    {
      "cell_type": "code",
      "source": [
        "def calculate_square_root(number):\n",
        "    if number < 0:\n",
        "        raise ValueError(\"Square root is not defined for negative numbers.\")\n",
        "\n",
        "    if number == 0:\n",
        "        return 0\n",
        "\n",
        "    guess = number / 2\n",
        "\n",
        "    precision = 0.0001\n",
        "    while abs(guess * guess - number) > precision:\n",
        "        guess = (guess + number / guess) / 2\n",
        "\n",
        "    return guess"
      ],
      "metadata": {
        "id": "La0dXkLXFvOz"
      },
      "execution_count": 119,
      "outputs": []
    },
    {
      "cell_type": "markdown",
      "source": [
        "29. Write a Python program to check if a given string is a valid palindrome ignoring non-alphanumeric characters.\n"
      ],
      "metadata": {
        "id": "HfD34oh0GY6L"
      }
    },
    {
      "cell_type": "code",
      "source": [
        "import re\n",
        "\n",
        "def is_valid_palindrome(string):\n",
        "\n",
        "    alphanumeric_string = re.sub(r'[^a-zA-Z0-9]', '', string)\n",
        "\n",
        "    alphanumeric_string = alphanumeric_string.lower()\n",
        "    return alphanumeric_string == alphanumeric_string[::-1]\n"
      ],
      "metadata": {
        "id": "IPAiljVNGHN0"
      },
      "execution_count": 121,
      "outputs": []
    },
    {
      "cell_type": "markdown",
      "source": [
        "\n",
        "30. Implement a function to find the minimum element in a rotated sorted list.\n"
      ],
      "metadata": {
        "id": "we3BtANfGoCU"
      }
    },
    {
      "cell_type": "code",
      "source": [
        "def find_minimum_rotated(nums):\n",
        "    left = 0\n",
        "    right = len(nums) - 1\n",
        "\n",
        "    if nums[left] <= nums[right]:\n",
        "        return nums[left]\n",
        "\n",
        "    while left <= right:\n",
        "        mid = (left + right) // 2\n",
        "\n",
        "        if nums[mid] > nums[mid + 1]:\n",
        "            return nums[mid + 1]\n",
        "\n",
        "        if nums[mid] >= nums[left]:\n",
        "            left = mid + 1\n",
        "        else:\n",
        "            right = mid - 1\n",
        "\n",
        "    return None\n",
        "\n"
      ],
      "metadata": {
        "id": "qCr6TwM3Gxv_"
      },
      "execution_count": 123,
      "outputs": []
    },
    {
      "cell_type": "markdown",
      "source": [
        "31. Write a program to find the sum of all even numbers in a list."
      ],
      "metadata": {
        "id": "KpfPKYXsHj0c"
      }
    },
    {
      "cell_type": "code",
      "source": [
        "def sum_even_numbers(numbers):\n",
        "    even_sum = 0\n",
        "\n",
        "    for num in numbers:\n",
        "        if num % 2 == 0:\n",
        "            even_sum += num\n",
        "\n",
        "    return even_sum\n",
        "\n"
      ],
      "metadata": {
        "id": "S5I83IO0Gx3M"
      },
      "execution_count": 124,
      "outputs": []
    },
    {
      "cell_type": "markdown",
      "source": [
        "32. Implement a function to calculate the power of a number using recursion.\n"
      ],
      "metadata": {
        "id": "nhnDQPCVHvVO"
      }
    },
    {
      "cell_type": "code",
      "source": [
        "def power(base, exponent):\n",
        "    if exponent == 0:\n",
        "        return 1\n",
        "    elif exponent > 0:\n",
        "        return base * power(base, exponent - 1)\n",
        "    else:\n",
        "        return 1 / (base * power(base, -exponent - 1))\n"
      ],
      "metadata": {
        "id": "2zJLIKpuH3FF"
      },
      "execution_count": 126,
      "outputs": []
    },
    {
      "cell_type": "markdown",
      "source": [
        "33. Write a Python program to remove duplicates from a list while preserving the order."
      ],
      "metadata": {
        "id": "bVmL3t0iILYU"
      }
    },
    {
      "cell_type": "code",
      "source": [
        "def remove_duplicates_preserve_order(lst):\n",
        "    unique_lst = []\n",
        "    for item in lst:\n",
        "        if item not in unique_lst:\n",
        "            unique_lst.append(item)\n",
        "    return unique_lst\n"
      ],
      "metadata": {
        "id": "10h4d4vOH3Yx"
      },
      "execution_count": 127,
      "outputs": []
    },
    {
      "cell_type": "markdown",
      "source": [
        "34. Implement a function to find the longest common prefix among a list of strings."
      ],
      "metadata": {
        "id": "uQ6-vl0PImjS"
      }
    },
    {
      "cell_type": "code",
      "source": [
        "def find_longest_common_prefix(strings):\n",
        "    if not strings:\n",
        "        return \"\"\n",
        "\n",
        "    prefix = strings[0]\n",
        "\n",
        "    for string in strings[1:]:\n",
        "        while not string.startswith(prefix):\n",
        "            prefix = prefix[:-1]\n",
        "            if not prefix:\n",
        "                return \"\"\n",
        "\n",
        "    return prefix\n",
        "\n"
      ],
      "metadata": {
        "id": "Jpjj0WjeGx_O"
      },
      "execution_count": 129,
      "outputs": []
    },
    {
      "cell_type": "markdown",
      "source": [
        "35. Write a program to check if a given number is a perfect square."
      ],
      "metadata": {
        "id": "MRlY3A-qJL9s"
      }
    },
    {
      "cell_type": "code",
      "source": [
        "def is_perfect_square(number):\n",
        "    if number < 0:\n",
        "        return False\n",
        "    left = 0\n",
        "    right = number\n",
        "\n",
        "    while left <= right:\n",
        "        mid = (left + right) // 2\n",
        "        square = mid * mid\n",
        "\n",
        "        if square == number:\n",
        "            return True\n",
        "        elif square < number:\n",
        "            left = mid + 1\n",
        "        else:\n",
        "            right = mid - 1\n",
        "\n",
        "    return False\n"
      ],
      "metadata": {
        "colab": {
          "base_uri": "https://localhost:8080/"
        },
        "id": "40wmTxc9JFLu",
        "outputId": "46dcfce2-3008-4baf-eaf8-693b8cfd9423"
      },
      "execution_count": 131,
      "outputs": [
        {
          "output_type": "stream",
          "name": "stdout",
          "text": [
            "False\n"
          ]
        }
      ]
    },
    {
      "cell_type": "markdown",
      "source": [
        "36. Implement a function to calculate the product of all elements in a list."
      ],
      "metadata": {
        "id": "XXgI7e7CJeYU"
      }
    },
    {
      "cell_type": "code",
      "source": [
        "def calculate_product(numbers):\n",
        "    product = 1\n",
        "\n",
        "    for num in numbers:\n",
        "        product *= num\n",
        "\n",
        "    return product"
      ],
      "metadata": {
        "id": "C53pNorhJkLI"
      },
      "execution_count": 132,
      "outputs": []
    },
    {
      "cell_type": "markdown",
      "source": [
        "37. Write a Python program to reverse the order of words in a sentence while preserving the word order."
      ],
      "metadata": {
        "id": "xwkEcqsRJi_G"
      }
    },
    {
      "cell_type": "code",
      "source": [
        "def reverse_words(sentence):\n",
        "    words = sentence.split()\n",
        "    reversed_words = words[::-1]\n",
        "    reversed_sentence = ' '.join(reversed_words)\n",
        "    return reversed_sentence\n"
      ],
      "metadata": {
        "id": "JaA8sdp8JTtG"
      },
      "execution_count": 133,
      "outputs": []
    },
    {
      "cell_type": "markdown",
      "source": [
        "38. Implement a function to find the missing number in a given list of consecutive numbers.\n"
      ],
      "metadata": {
        "id": "i9L1cd8DKAJ0"
      }
    },
    {
      "cell_type": "code",
      "source": [
        "def find_missing_number(numbers):\n",
        "    n = len(numbers) + 1\n",
        "    total_sum = (n * (n + 1)) // 2\n",
        "    actual_sum = sum(numbers)\n",
        "    missing_number = total_sum - actual_sum\n",
        "    return missing_number\n"
      ],
      "metadata": {
        "id": "KzqjKop-J_Av"
      },
      "execution_count": 134,
      "outputs": []
    },
    {
      "cell_type": "markdown",
      "source": [
        "39. Write a program to find the sum of digits of a given number."
      ],
      "metadata": {
        "id": "gUGefSNUKZRo"
      }
    },
    {
      "cell_type": "code",
      "source": [
        "def sum_of_digits(number):\n",
        "    total_sum = 0\n",
        "    while number > 0:\n",
        "        digit = number % 10\n",
        "        total_sum += digit\n",
        "        number //= 10\n",
        "    return total_sum\n"
      ],
      "metadata": {
        "id": "q_R7uULhKYA8"
      },
      "execution_count": 135,
      "outputs": []
    },
    {
      "cell_type": "markdown",
      "source": [
        "40. Implement a function to check if a given string is a valid palindrome considering case sensitivity."
      ],
      "metadata": {
        "id": "XFxVd_H5KoNU"
      }
    },
    {
      "cell_type": "code",
      "source": [
        "def is_valid_palindrome(string):\n",
        "    alphanumeric_string = ''.join(char.lower() for char in string if char.isalnum())\n",
        "\n",
        "    return alphanumeric_string == alphanumeric_string[::-1]\n",
        "\n"
      ],
      "metadata": {
        "id": "NqL2agqxKkn9"
      },
      "execution_count": 136,
      "outputs": []
    },
    {
      "cell_type": "markdown",
      "source": [
        "41. Write a Python program to find the smallest missing positive integer in a list."
      ],
      "metadata": {
        "id": "_mzqTepXKzcK"
      }
    },
    {
      "cell_type": "code",
      "source": [
        "def find_smallest_missing_positive(nums):\n",
        "    n = len(nums)\n",
        "    left = 0\n",
        "    right = n - 1\n",
        "\n",
        "    while left <= right:\n",
        "        if nums[left] <= 0:\n",
        "            nums[left], nums[right] = nums[right], nums[left]\n",
        "            right -= 1\n",
        "        else:\n",
        "            left += 1\n",
        "\n",
        "    for i in range(left):\n",
        "        num = abs(nums[i])\n",
        "        if num <= left:\n",
        "            nums[num - 1] = -abs(nums[num - 1])\n",
        "\n",
        "    for i in range(left):\n",
        "        if nums[i] > 0:\n",
        "            return i + 1\n",
        "\n",
        "    return left + 1\n"
      ],
      "metadata": {
        "id": "cIPBqEE7K62o"
      },
      "execution_count": 138,
      "outputs": []
    },
    {
      "cell_type": "markdown",
      "source": [
        "42. Implement a function to find the longest palindrome substring in a given string."
      ],
      "metadata": {
        "id": "ifenbHSDLOqg"
      }
    },
    {
      "cell_type": "code",
      "source": [
        "def longest_palindrome_substring(s):\n",
        "    longest = \"\"\n",
        "    for i in range(len(s)):\n",
        "        l, r = i, i\n",
        "        while l >= 0 and r < len(s) and s[l] == s[r]:\n",
        "            l -= 1\n",
        "            r += 1\n",
        "        odd_palindrome = s[l + 1:r]\n",
        "        l, r = i, i + 1\n",
        "        while l >= 0 and r < len(s) and s[l] == s[r]:\n",
        "            l -= 1\n",
        "            r += 1\n",
        "        even_palindrome = s[l + 1:r]\n",
        "        if len(odd_palindrome) > len(longest):\n",
        "            longest = odd_palindrome\n",
        "        if len(even_palindrome) > len(longest):\n",
        "            longest = even_palindrome\n",
        "    return longest"
      ],
      "metadata": {
        "id": "_EdKWlULLTMz"
      },
      "execution_count": 139,
      "outputs": []
    },
    {
      "cell_type": "markdown",
      "source": [
        "43. Write a program to find the number of occurrences of a given element in a list."
      ],
      "metadata": {
        "id": "EQsxzIicKzni"
      }
    },
    {
      "cell_type": "code",
      "source": [
        "def count_occurrences(lst, target):\n",
        "    count = 0\n",
        "\n",
        "    for item in lst:\n",
        "        if item == target:\n",
        "            count += 1\n",
        "\n",
        "    return count\n"
      ],
      "metadata": {
        "id": "YADPDJmeKycB"
      },
      "execution_count": 140,
      "outputs": []
    },
    {
      "cell_type": "markdown",
      "source": [
        "44. Implement a function to check if a given number is a perfect number."
      ],
      "metadata": {
        "id": "EAbnZkOhLwD1"
      }
    },
    {
      "cell_type": "code",
      "source": [
        "def is_perfect_number(number):\n",
        "    if number <= 0:\n",
        "        return False\n",
        "\n",
        "    divisor_sum = 0\n",
        "    for i in range(1, number):\n",
        "        if number % i == 0:\n",
        "            divisor_sum += i\n",
        "\n",
        "    return divisor_sum == number\n"
      ],
      "metadata": {
        "id": "rxWQ1sP-Lvbh"
      },
      "execution_count": null,
      "outputs": []
    },
    {
      "cell_type": "markdown",
      "source": [
        "45. Write a Python program to remove all duplicates from a string"
      ],
      "metadata": {
        "id": "oKxQ66EML-tc"
      }
    },
    {
      "cell_type": "code",
      "source": [
        "def remove_duplicates(string):\n",
        "    unique_chars = []\n",
        "    for char in string:\n",
        "        if char not in unique_chars:\n",
        "            unique_chars.append(char)\n",
        "    return ''.join(unique_chars)\n",
        "\n",
        "\n"
      ],
      "metadata": {
        "id": "qdCuphT6MBME"
      },
      "execution_count": 141,
      "outputs": []
    },
    {
      "cell_type": "markdown",
      "source": [
        "46. Implement a function to find the first missing positive\n"
      ],
      "metadata": {
        "id": "od9BKCYQMIoC"
      }
    },
    {
      "cell_type": "code",
      "source": [
        "def find_first_missing_positive(nums):\n",
        "    n = len(nums)\n",
        "\n",
        "    i = 0\n",
        "    while i < n:\n",
        "        if 1 <= nums[i] <= n and nums[nums[i] - 1] != nums[i]:\n",
        "            nums[nums[i] - 1], nums[i] = nums[i], nums[nums[i] - 1]\n",
        "        else:\n",
        "            i += 1\n",
        "\n",
        "\n",
        "    for i in range(n):\n",
        "        if nums[i] != i + 1:\n",
        "            return i + 1\n",
        "\n",
        "    return n + 1\n"
      ],
      "metadata": {
        "id": "In4kKT6AMTsp"
      },
      "execution_count": 142,
      "outputs": []
    }
  ]
}