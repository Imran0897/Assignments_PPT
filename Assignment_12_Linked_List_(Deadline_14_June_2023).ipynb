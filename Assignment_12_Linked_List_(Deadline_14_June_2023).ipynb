{
  "nbformat": 4,
  "nbformat_minor": 0,
  "metadata": {
    "colab": {
      "provenance": [],
      "authorship_tag": "ABX9TyMr5F3f4i2iHIA+NexAdpPG",
      "include_colab_link": true
    },
    "kernelspec": {
      "name": "python3",
      "display_name": "Python 3"
    },
    "language_info": {
      "name": "python"
    }
  },
  "cells": [
    {
      "cell_type": "markdown",
      "metadata": {
        "id": "view-in-github",
        "colab_type": "text"
      },
      "source": [
        "<a href=\"https://colab.research.google.com/github/Imran0897/Assignments_PPT/blob/main/Assignment_12_Linked_List_(Deadline_14_June_2023).ipynb\" target=\"_parent\"><img src=\"https://colab.research.google.com/assets/colab-badge.svg\" alt=\"Open In Colab\"/></a>"
      ]
    },
    {
      "cell_type": "markdown",
      "source": [
        "<aside>\n",
        "💡 **Question 1**\n",
        "\n",
        "Given a singly linked list, delete **middle** of the linked list. For example, if given linked list is 1->2->**3**->4->5 then linked list should be modified to 1->2->4->5.If there are **even** nodes, then there would be **two middle** nodes, we need to delete the second middle element. For example, if given linked list is 1->2->3->4->5->6 then it should be modified to 1->2->3->5->6.If the input linked list is NULL or has 1 node, then it should return NULL\n",
        "\n",
        "</aside>"
      ],
      "metadata": {
        "id": "b_YCyaUzLib5"
      }
    },
    {
      "cell_type": "code",
      "source": [
        "class ListNode:\n",
        "    def __init__(self, val=0, next=None):\n",
        "        self.val = val\n",
        "        self.next = next\n",
        "\n",
        "def deleteMiddleNode(head):\n",
        "    if head is None or head.next is None:\n",
        "        return None\n",
        "\n",
        "    slow_ptr = head\n",
        "    fast_ptr = head\n",
        "    prev_ptr = None\n",
        "\n",
        "    while fast_ptr is not None and fast_ptr.next is not None:\n",
        "        fast_ptr = fast_ptr.next.next\n",
        "        prev_ptr = slow_ptr\n",
        "        slow_ptr = slow_ptr.next\n",
        "\n",
        "    prev_ptr.next = slow_ptr.next\n",
        "\n",
        "    return head\n"
      ],
      "metadata": {
        "id": "Lxt9lgcqNimX"
      },
      "execution_count": null,
      "outputs": []
    },
    {
      "cell_type": "markdown",
      "source": [
        "<aside>\n",
        "💡 **Question 2**\n",
        "\n",
        "Given a linked list of **N** nodes. The task is to check if the linked list has a loop. Linked list can contain self loop.\n",
        "\n",
        "</aside>"
      ],
      "metadata": {
        "id": "hBneWwl-Lk4Z"
      }
    },
    {
      "cell_type": "code",
      "source": [
        "class ListNode:\n",
        "    def __init__(self, val=0, next=None):\n",
        "        self.val = val\n",
        "        self.next = next\n",
        "\n",
        "def hasLoop(head):\n",
        "    if head is None or head.next is None:\n",
        "        return False\n",
        "\n",
        "    slow_ptr = head\n",
        "    fast_ptr = head\n",
        "\n",
        "    while fast_ptr is not None and fast_ptr.next is not None:\n",
        "        slow_ptr = slow_ptr.next\n",
        "        fast_ptr = fast_ptr.next.next\n",
        "\n",
        "        if slow_ptr == fast_ptr:\n",
        "            return True\n",
        "\n",
        "    return False\n"
      ],
      "metadata": {
        "id": "RoZlSeVlN7Fg"
      },
      "execution_count": 1,
      "outputs": []
    },
    {
      "cell_type": "markdown",
      "source": [
        "<aside>\n",
        "💡 **Question 3**\n",
        "\n",
        "Given a linked list consisting of **L** nodes and given a number **N**. The task is to find the **N**th node from the end of the linked list.\n",
        "\n",
        "</aside>"
      ],
      "metadata": {
        "id": "M5JCKsflOgY6"
      }
    },
    {
      "cell_type": "code",
      "source": [
        "class ListNode:\n",
        "    def __init__(self, val=0, next=None):\n",
        "        self.val = val\n",
        "        self.next = next\n",
        "\n",
        "def findNthFromEnd(head, n):\n",
        "    if head is None:\n",
        "        return None\n",
        "\n",
        "    slow_ptr = head\n",
        "    fast_ptr = head\n",
        "\n",
        "    for _ in range(n):\n",
        "        if fast_ptr is None:\n",
        "            return None\n",
        "        fast_ptr = fast_ptr.next\n",
        "\n",
        "    while fast_ptr is not None:\n",
        "        slow_ptr = slow_ptr.next\n",
        "        fast_ptr = fast_ptr.next\n",
        "\n",
        "    return slow_ptr.val\n"
      ],
      "metadata": {
        "id": "j8cm9h3AOdLZ"
      },
      "execution_count": 2,
      "outputs": []
    },
    {
      "cell_type": "markdown",
      "source": [
        "Given a singly linked list of characters, write a function that returns true if the given list is a palindrome, else false.\n",
        "\n",
        "**Examples:**\n",
        "\n",
        "> Input: R->A->D->A->R->NULL\n",
        ">\n",
        ">\n",
        "> **Output:** Yes\n",
        ">\n",
        "> **Input:** C->O->D->E->NULL\n",
        ">\n",
        "> **Output:** No\n",
        ">"
      ],
      "metadata": {
        "id": "2muqAwY1O3no"
      }
    },
    {
      "cell_type": "code",
      "source": [
        "class ListNode:\n",
        "    def __init__(self, val=0, next=None):\n",
        "        self.val = val\n",
        "        self.next = next\n",
        "\n",
        "def isPalindrome(head):\n",
        "    if head is None or head.next is None:\n",
        "        return True\n",
        "\n",
        "    slow_ptr = head\n",
        "    fast_ptr = head\n",
        "    while fast_ptr.next is not None and fast_ptr.next.next is not None:\n",
        "        slow_ptr = slow_ptr.next\n",
        "        fast_ptr = fast_ptr.next.next\n",
        "\n",
        "\n",
        "    second_half = reverseLinkedList(slow_ptr.next)\n",
        "\n",
        "\n",
        "    first_half = head\n",
        "    while second_half is not None:\n",
        "        if first_half.val != second_half.val:\n",
        "            return False\n",
        "        first_half = first_half.next\n",
        "        second_half = second_half.next\n",
        "\n",
        "    return True\n",
        "\n",
        "def reverseLinkedList(head):\n",
        "    prev_ptr = None\n",
        "    curr_ptr = head\n",
        "    while curr_ptr is not None:\n",
        "        next_ptr = curr_ptr.next\n",
        "        curr_ptr.next = prev_ptr\n",
        "        prev_ptr = curr_ptr\n",
        "        curr_ptr = next_ptr\n",
        "    return prev_ptr\n"
      ],
      "metadata": {
        "id": "Fg3mABN-OtUq"
      },
      "execution_count": 4,
      "outputs": []
    },
    {
      "cell_type": "markdown",
      "source": [
        "<aside>\n",
        "💡 **Question 5**\n",
        "\n",
        "Given a linked list of **N** nodes such that it may contain a loop.\n",
        "\n",
        "A loop here means that the last node of the link list is connected to the node at position X(1-based index). If the link list does not have any loop, X=0.\n",
        "\n",
        "Remove the loop from the linked list, if it is present, i.e. unlink the last node which is forming the loop.\n",
        "\n",
        "</aside>"
      ],
      "metadata": {
        "id": "NSXmkNkSPG1-"
      }
    },
    {
      "cell_type": "code",
      "source": [
        "class ListNode:\n",
        "    def __init__(self, val=0, next=None):\n",
        "        self.val = val\n",
        "        self.next = next\n",
        "\n",
        "def removeLoop(head):\n",
        "    if head is None or head.next is None:\n",
        "        return\n",
        "\n",
        "\n",
        "    slow_ptr = head\n",
        "    fast_ptr = head\n",
        "    loop_exists = False\n",
        "    while fast_ptr.next is not None and fast_ptr.next.next is not None:\n",
        "        slow_ptr = slow_ptr.next\n",
        "        fast_ptr = fast_ptr.next.next\n",
        "        if slow_ptr == fast_ptr:\n",
        "            loop_exists = True\n",
        "            break\n",
        "\n",
        "\n",
        "    if loop_exists:\n",
        "        slow_ptr = head\n",
        "        while slow_ptr != fast_ptr:\n",
        "            slow_ptr = slow_ptr.next\n",
        "            fast_ptr = fast_ptr.next\n",
        "\n",
        "\n",
        "        temp_ptr = slow_ptr\n",
        "        while temp_ptr.next != slow_ptr:\n",
        "            temp_ptr = temp_ptr.next\n",
        "        temp_ptr.next = None\n"
      ],
      "metadata": {
        "id": "TjF_NwJbPFQk"
      },
      "execution_count": 5,
      "outputs": []
    },
    {
      "cell_type": "markdown",
      "source": [
        "<aside>\n",
        "💡 **Question 6**\n",
        "\n",
        "Given a linked list and two integers M and N. Traverse the linked list such that you retain M nodes then delete next N nodes, continue the same till end of the linked list.\n",
        "\n",
        "</aside>"
      ],
      "metadata": {
        "id": "eqJtSZEQPTOx"
      }
    },
    {
      "cell_type": "code",
      "source": [
        "class ListNode:\n",
        "    def __init__(self, val=0, next=None):\n",
        "        self.val = val\n",
        "        self.next = next\n",
        "\n",
        "def traverseAndDelete(head, M, N):\n",
        "    if M == 0:\n",
        "        return None\n",
        "\n",
        "    current_ptr = head\n",
        "    prev_ptr = None\n",
        "\n",
        "    while current_ptr is not None:\n",
        "        # Traverse M nodes\n",
        "        for _ in range(M):\n",
        "            if current_ptr is None:\n",
        "                return head\n",
        "            prev_ptr = current_ptr\n",
        "            current_ptr = current_ptr.next\n",
        "\n",
        "        # Delete N nodes\n",
        "        for _ in range(N):\n",
        "            if current_ptr is None:\n",
        "                break\n",
        "            current_ptr = current_ptr.next\n",
        "\n",
        "        # Update the next pointer of the previous node\n",
        "        prev_ptr.next = current_ptr\n",
        "\n",
        "    return head\n"
      ],
      "metadata": {
        "id": "rAmlqqA7PSk7"
      },
      "execution_count": null,
      "outputs": []
    },
    {
      "cell_type": "markdown",
      "source": [
        "<aside>\n",
        "💡 **Question 7**\n",
        "\n",
        "Given two linked lists, insert nodes of second list into first list at alternate positions of first list.\n",
        "For example, if first list is 5->7->17->13->11 and second is 12->10->2->4->6, the first list should become 5->12->7->10->17->2->13->4->11->6 and second list should become empty. The nodes of second list should only be inserted when there are positions available. For example, if the first list is 1->2->3 and second list is 4->5->6->7->8, then first list should become 1->4->2->5->3->6 and second list to 7->8.\n",
        "\n",
        "Use of extra space is not allowed (Not allowed to create additional nodes), i.e., insertion must be done in-place. Expected time complexity is O(n) where n is number of nodes in first list.\n",
        "\n",
        "</aside>"
      ],
      "metadata": {
        "id": "eZhVkARmPb4E"
      }
    },
    {
      "cell_type": "code",
      "source": [
        "class ListNode:\n",
        "    def __init__(self, val=0, next=None):\n",
        "        self.val = val\n",
        "        self.next = next\n",
        "\n",
        "def insertAtAlternatePositions(first_head, second_head):\n",
        "    if first_head is None:\n",
        "        return second_head\n",
        "    if second_head is None:\n",
        "        return first_head\n",
        "\n",
        "    first_ptr = first_head\n",
        "    second_ptr = second_head\n",
        "\n",
        "    while first_ptr is not None and second_ptr is not None:\n",
        "        first_next = first_ptr.next\n",
        "        second_next = second_ptr.next\n",
        "\n",
        "        first_ptr.next = second_ptr\n",
        "        second_ptr.next = first_next\n",
        "\n",
        "        first_ptr = first_next\n",
        "        second_ptr = second_next\n",
        "\n",
        "    if second_ptr is not None:\n",
        "        first_ptr.next = second_ptr\n",
        "\n",
        "    return first_head\n"
      ],
      "metadata": {
        "id": "1u3eIrZFPibb"
      },
      "execution_count": null,
      "outputs": []
    },
    {
      "cell_type": "markdown",
      "source": [
        "<aside>\n",
        "💡 **Question 8**\n",
        "\n",
        "Given a singly linked list, find if the linked list is [circular](https://www.geeksforgeeks.org/circular-linked-list/amp/) or not.\n",
        "\n",
        "> A linked list is called circular if it is not NULL-terminated and all nodes are connected in the form of a cycle. Below is an example of a circular linked list.\n",
        ">\n",
        "</aside>"
      ],
      "metadata": {
        "id": "1YzA2a4iPin7"
      }
    },
    {
      "cell_type": "code",
      "source": [
        "class ListNode:\n",
        "    def __init__(self, val=0, next=None):\n",
        "        self.val = val\n",
        "        self.next = next\n",
        "\n",
        "def isCircular(head):\n",
        "    if head is None:\n",
        "        return False\n",
        "\n",
        "    slow = head\n",
        "    fast = head\n",
        "\n",
        "    while fast.next is not None and fast.next.next is not None:\n",
        "        slow = slow.next\n",
        "        fast = fast.next.next\n",
        "\n",
        "        if slow == fast:\n",
        "            return True\n",
        "\n",
        "    return False\n"
      ],
      "metadata": {
        "id": "JM8EY-NjPuoc"
      },
      "execution_count": 6,
      "outputs": []
    }
  ]
}