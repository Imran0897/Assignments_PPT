{
  "nbformat": 4,
  "nbformat_minor": 0,
  "metadata": {
    "colab": {
      "provenance": [],
      "authorship_tag": "ABX9TyMtmMzGm42ZDCGypvrUVkii",
      "include_colab_link": true
    },
    "kernelspec": {
      "name": "python3",
      "display_name": "Python 3"
    },
    "language_info": {
      "name": "python"
    }
  },
  "cells": [
    {
      "cell_type": "markdown",
      "metadata": {
        "id": "view-in-github",
        "colab_type": "text"
      },
      "source": [
        "<a href=\"https://colab.research.google.com/github/Imran0897/Assignments_PPT/blob/main/Assignment_5_2D_Arrays_(Deadline_04_June_2023).ipynb\" target=\"_parent\"><img src=\"https://colab.research.google.com/assets/colab-badge.svg\" alt=\"Open In Colab\"/></a>"
      ]
    },
    {
      "cell_type": "markdown",
      "source": [
        "<aside>\n",
        "💡 **Question 1**\n",
        "\n",
        "Convert 1D Array Into 2D Array\n",
        "\n",
        "You are given a **0-indexed** 1-dimensional (1D) integer array original, and two integers, m and n. You are tasked with creating a 2-dimensional (2D) array with  m rows and n columns using **all** the elements from original.\n",
        "\n",
        "The elements from indices 0 to n - 1 (**inclusive**) of original should form the first row of the constructed 2D array, the elements from indices n to 2 * n - 1 (**inclusive**) should form the second row of the constructed 2D array, and so on.\n",
        "\n",
        "Return *an* m x n *2D array constructed according to the above procedure, or an empty 2D array if it is impossible*.\n",
        "\n",
        "</aside>"
      ],
      "metadata": {
        "id": "SDxv_GIzR6Be"
      }
    },
    {
      "cell_type": "code",
      "source": [
        "def construct2DArray(original, m, n):\n",
        "    if len(original) != m * n:\n",
        "        return []\n",
        "\n",
        "    result = [[0] * n for _ in range(m)]\n",
        "\n",
        "    for i in range(len(original)):\n",
        "        row = i // n\n",
        "        col = i % n\n",
        "        result[row][col] = original[i]\n",
        "\n",
        "    return result\n",
        "\n"
      ],
      "metadata": {
        "id": "G0eRDKb8SFUT"
      },
      "execution_count": 2,
      "outputs": []
    },
    {
      "cell_type": "markdown",
      "source": [
        "Question 2\n",
        "\n",
        "You have n coins and you want to build a staircase with these coins. The staircase consists of k rows where the ith row has exactly i coins. The last row of the staircase **may be** incomplete.\n",
        "\n",
        "Given the integer n, return *the number of **complete rows** of the staircase you will build*."
      ],
      "metadata": {
        "id": "fGO1HfO6SSbH"
      }
    },
    {
      "cell_type": "code",
      "source": [
        "def arrangeCoins(n):\n",
        "    rows = 0\n",
        "    coins = 0\n",
        "\n",
        "    for i in range(1, n+1):\n",
        "        coins += i\n",
        "        if coins <= n:\n",
        "            rows += 1\n",
        "        else:\n",
        "            break\n",
        "\n",
        "    return rows\n"
      ],
      "metadata": {
        "id": "lpH7W4NsSYNC"
      },
      "execution_count": 3,
      "outputs": []
    },
    {
      "cell_type": "markdown",
      "source": [
        "<aside>\n",
        "💡 **Question 3**\n",
        "\n",
        "Given an integer array nums sorted in **non-decreasing** order, return *an array of **the squares of each number** sorted in non-decreasing order*.\n",
        "\n",
        "**Example 1:**\n",
        "\n",
        "**Input:** nums = [-4,-1,0,3,10]\n",
        "\n",
        "**Output:** [0,1,9,16,100]\n",
        "\n",
        "**Explanation:** After squaring, the array becomes [16,1,0,9,100].\n",
        "\n",
        "After sorting, it becomes [0,1,9,16,100].\n",
        "\n",
        "</aside>"
      ],
      "metadata": {
        "id": "K-CCNo--SnSJ"
      }
    },
    {
      "cell_type": "code",
      "source": [
        "def sortedSquares(nums):\n",
        "    result = []\n",
        "\n",
        "    for num in nums:\n",
        "        result.append(num ** 2)\n",
        "\n",
        "    result = sorted(result)\n",
        "\n",
        "    return result\n",
        "\n",
        "\n"
      ],
      "metadata": {
        "id": "-FLjty7TSh0s"
      },
      "execution_count": 4,
      "outputs": []
    },
    {
      "cell_type": "markdown",
      "source": [
        "<aside>\n",
        "💡 **Question 4**\n",
        "\n",
        "Given two **0-indexed** integer arrays nums1 and nums2, return *a list* answer *of size* 2 *where:*\n",
        "\n",
        "- answer[0] *is a list of all **distinct** integers in* nums1 *which are **not** present in* nums2*.*\n",
        "- answer[1] *is a list of all **distinct** integers in* nums2 *which are **not** present in* nums1.\n",
        "\n",
        "**Note** that the integers in the lists may be returned in **any** order.\n",
        "\n",
        "**Example 1:**\n",
        "\n",
        "**Input:** nums1 = [1,2,3], nums2 = [2,4,6]\n",
        "\n",
        "**Output:** [[1,3],[4,6]]\n",
        "\n",
        "**Explanation:**\n",
        "\n",
        "For nums1, nums1[1] = 2 is present at index 0 of nums2, whereas nums1[0] = 1 and nums1[2] = 3 are not present in nums2. Therefore, answer[0] = [1,3].\n",
        "\n",
        "For nums2, nums2[0] = 2 is present at index 1 of nums1, whereas nums2[1] = 4 and nums2[2] = 6 are not present in nums2. Therefore, answer[1] = [4,6].\n",
        "\n",
        "</aside>"
      ],
      "metadata": {
        "id": "eaj4xggNSsxf"
      }
    },
    {
      "cell_type": "code",
      "source": [
        "def findDisappearedNumbers(nums1, nums2):\n",
        "    set1 = set(nums1)\n",
        "    set2 = set(nums2)\n",
        "\n",
        "    distinct_nums1 = list(set1 - set2)\n",
        "    distinct_nums2 = list(set2 - set1)\n",
        "\n",
        "    return [distinct_nums1, distinct_nums2]\n",
        "\n",
        "\n"
      ],
      "metadata": {
        "id": "0wNR58DgS3gf"
      },
      "execution_count": 5,
      "outputs": []
    },
    {
      "cell_type": "markdown",
      "source": [
        "<aside>\n",
        "💡 **Question 5**\n",
        "\n",
        "Given two integer arrays arr1 and arr2, and the integer d, *return the distance value between the two arrays*.\n",
        "\n",
        "The distance value is defined as the number of elements arr1[i] such that there is not any element arr2[j] where |arr1[i]-arr2[j]| <= d.\n",
        "\n",
        "**Example 1:**\n",
        "\n",
        "**Input:** arr1 = [4,5,8], arr2 = [10,9,1,8], d = 2\n",
        "\n",
        "**Output:** 2\n",
        "\n",
        "</aside>"
      ],
      "metadata": {
        "id": "c9X8Q5mVTCO6"
      }
    },
    {
      "cell_type": "code",
      "source": [
        "def findTheDistanceValue(arr1, arr2, d):\n",
        "    distance = 0\n",
        "\n",
        "    for num1 in arr1:\n",
        "        found = False\n",
        "        for num2 in arr2:\n",
        "            if abs(num1 - num2) <= d:\n",
        "                found = True\n",
        "                break\n",
        "        if not found:\n",
        "            distance += 1\n",
        "\n",
        "    return distance\n",
        "\n"
      ],
      "metadata": {
        "id": "aitm3Uh6TLQL"
      },
      "execution_count": 6,
      "outputs": []
    },
    {
      "cell_type": "markdown",
      "source": [
        "<aside>\n",
        "💡 **Question 6**\n",
        "\n",
        "Given an integer array nums of length n where all the integers of nums are in the range [1, n] and each integer appears **once** or **twice**, return *an array of all the integers that appears **twice***.\n",
        "\n",
        "You must write an algorithm that runs in O(n) time and uses only constant extra space.\n",
        "\n",
        "**Example 1:**\n",
        "\n",
        "**Input:** nums = [4,3,2,7,8,2,3,1]\n",
        "\n",
        "**Output:**\n",
        "\n",
        "[2,3]\n",
        "\n",
        "</aside>"
      ],
      "metadata": {
        "id": "4cgDMOzVTLqk"
      }
    },
    {
      "cell_type": "code",
      "source": [
        "def findDuplicates(nums):\n",
        "    result = []\n",
        "\n",
        "    for num in nums:\n",
        "        index = abs(num) - 1\n",
        "        if nums[index] > 0:\n",
        "            nums[index] *= -1\n",
        "        else:\n",
        "            result.append(abs(num))\n",
        "\n",
        "    return result\n"
      ],
      "metadata": {
        "id": "guQRM6PMTVlb"
      },
      "execution_count": 7,
      "outputs": []
    },
    {
      "cell_type": "markdown",
      "source": [
        "<aside>\n",
        "💡 **Question 7**\n",
        "\n",
        "Suppose an array of length n sorted in ascending order is **rotated** between 1 and n times. For example, the array nums = [0,1,2,4,5,6,7] might become:\n",
        "\n",
        "- [4,5,6,7,0,1,2] if it was rotated 4 times.\n",
        "- [0,1,2,4,5,6,7] if it was rotated 7 times.\n",
        "\n",
        "Notice that **rotating** an array [a[0], a[1], a[2], ..., a[n-1]] 1 time results in the array [a[n-1], a[0], a[1], a[2], ..., a[n-2]].\n",
        "\n",
        "Given the sorted rotated array nums of **unique** elements, return *the minimum element of this array*.\n",
        "\n",
        "You must write an algorithm that runs in O(log n) time.\n",
        "\n",
        "</aside>"
      ],
      "metadata": {
        "id": "UYCGCIaWTZ9v"
      }
    },
    {
      "cell_type": "code",
      "source": [
        "def findMin(nums):\n",
        "    left = 0\n",
        "    right = len(nums) - 1\n",
        "\n",
        "    while left < right:\n",
        "        mid = left + (right - left) // 2\n",
        "\n",
        "        if nums[mid] > nums[right]:\n",
        "            left = mid + 1\n",
        "        else:\n",
        "            right = mid\n",
        "\n",
        "    return nums[left]\n"
      ],
      "metadata": {
        "id": "KaCjnVBLTZRH"
      },
      "execution_count": 8,
      "outputs": []
    },
    {
      "cell_type": "markdown",
      "source": [
        "<aside>\n",
        "💡 **Question 8**\n",
        "\n",
        "An integer array original is transformed into a **doubled** array changed by appending **twice the value** of every element in original, and then randomly **shuffling** the resulting array.\n",
        "\n",
        "Given an array changed, return original *if* changed *is a **doubled** array. If* changed *is not a **doubled** array, return an empty array. The elements in* original *may be returned in **any** order*.\n",
        "\n",
        "**Example 1:**\n",
        "\n",
        "**Input:** changed = [1,3,4,2,6,8]\n",
        "\n",
        "**Output:** [1,3,4]\n",
        "\n",
        "</aside>"
      ],
      "metadata": {
        "id": "xuOfktUITkDt"
      }
    },
    {
      "cell_type": "code",
      "source": [
        "from collections import Counter\n",
        "\n",
        "def findOriginalArray(changed):\n",
        "    counter = Counter(changed)\n",
        "    changed = sorted(set(changed))\n",
        "\n",
        "    original = []\n",
        "\n",
        "    for num in changed:\n",
        "        if counter[num] > 0:\n",
        "            if num == 0 and counter[num] % 2 == 0:\n",
        "                continue\n",
        "            if counter[num] == counter[2 * num]:\n",
        "                counter[num] -= 1\n",
        "                counter[2 * num] -= 1\n",
        "                original.extend([num] * counter[2 * num])\n",
        "\n",
        "    return original if len(original) == len(changed) // 2 else []\n",
        "\n"
      ],
      "metadata": {
        "id": "gxSdsxLRTuhv"
      },
      "execution_count": 9,
      "outputs": []
    }
  ]
}