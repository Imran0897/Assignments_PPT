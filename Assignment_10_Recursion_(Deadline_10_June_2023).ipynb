{
  "nbformat": 4,
  "nbformat_minor": 0,
  "metadata": {
    "colab": {
      "provenance": [],
      "authorship_tag": "ABX9TyOnnDrSTwh6nD0U6fPTVDRv",
      "include_colab_link": true
    },
    "kernelspec": {
      "name": "python3",
      "display_name": "Python 3"
    },
    "language_info": {
      "name": "python"
    }
  },
  "cells": [
    {
      "cell_type": "markdown",
      "metadata": {
        "id": "view-in-github",
        "colab_type": "text"
      },
      "source": [
        "<a href=\"https://colab.research.google.com/github/Imran0897/Assignments_PPT/blob/main/Assignment_10_Recursion_(Deadline_10_June_2023).ipynb\" target=\"_parent\"><img src=\"https://colab.research.google.com/assets/colab-badge.svg\" alt=\"Open In Colab\"/></a>"
      ]
    },
    {
      "cell_type": "markdown",
      "source": [
        "<aside>\n",
        "💡 **Question 1**\n",
        "\n",
        "Given an integer `n`, return *`true` if it is a power of three. Otherwise, return `false`*.\n",
        "\n",
        "An integer `n` is a power of three, if there exists an integer `x` such that `n == 3x`.\n",
        "\n",
        "</aside>"
      ],
      "metadata": {
        "id": "k5Gl2AMxGodz"
      }
    },
    {
      "cell_type": "code",
      "source": [
        "def is_power_of_three(n):\n",
        "    while n > 1 and n % 3 == 0:\n",
        "        n /= 3\n",
        "    return n == 1\n",
        "\n",
        "print(is_power_of_three(27))\n"
      ],
      "metadata": {
        "colab": {
          "base_uri": "https://localhost:8080/"
        },
        "id": "l2BAg2ceG45-",
        "outputId": "de6bf864-441d-401f-8aba-61439288335f"
      },
      "execution_count": 1,
      "outputs": [
        {
          "output_type": "stream",
          "name": "stdout",
          "text": [
            "True\n"
          ]
        }
      ]
    },
    {
      "cell_type": "markdown",
      "source": [
        "<aside>\n",
        "💡 **Question 2**\n",
        "\n",
        "You have a list `arr` of all integers in the range `[1, n]` sorted in a strictly increasing order. Apply the following algorithm on `arr`:\n",
        "\n",
        "- Starting from left to right, remove the first number and every other number afterward until you reach the end of the list.\n",
        "- Repeat the previous step again, but this time from right to left, remove the rightmost number and every other number from the remaining numbers.\n",
        "- Keep repeating the steps again, alternating left to right and right to left, until a single number remains.\n",
        "</aside>"
      ],
      "metadata": {
        "id": "YrfIr3pbHBhj"
      }
    },
    {
      "cell_type": "code",
      "source": [
        "def last_remaining(n):\n",
        "    arr = list(range(1, n + 1))\n",
        "    left_to_right = True\n",
        "\n",
        "    while len(arr) > 1:\n",
        "        if left_to_right:\n",
        "            arr = arr[1::2]\n",
        "        else:\n",
        "            arr = arr[-2::-2]\n",
        "\n",
        "        left_to_right = not left_to_right\n",
        "\n",
        "    return arr[0]\n",
        "\n",
        "\n",
        "print(last_remaining(9))\n",
        "print(last_remaining(5))\n"
      ],
      "metadata": {
        "colab": {
          "base_uri": "https://localhost:8080/"
        },
        "id": "HAK2s-YIHA2s",
        "outputId": "bd5db425-f7ed-4933-9ae0-4d18d1880432"
      },
      "execution_count": 2,
      "outputs": [
        {
          "output_type": "stream",
          "name": "stdout",
          "text": [
            "2\n",
            "2\n"
          ]
        }
      ]
    },
    {
      "cell_type": "markdown",
      "source": [
        "<aside>\n",
        "💡 **Question 3**\n",
        "\n",
        "****Given a set represented as a string, write a recursive code to print all subsets of it. The subsets can be printed in any order.\n",
        "\n",
        "**Example 1:**\n",
        "\n",
        "Input :  set = “abc”\n",
        "\n",
        "Output : { “”, “a”, “b”, “c”, “ab”, “ac”, “bc”, “abc”}\n",
        "\n",
        "**Example 2:**\n",
        "\n",
        "Input : set = “abcd”\n",
        "\n",
        "Output : { “”, “a” ,”ab” ,”abc” ,”abcd”, “abd” ,”ac” ,”acd”, “ad” ,”b”, “bc” ,”bcd” ,”bd” ,”c” ,”cd” ,”d” }\n",
        "\n",
        "</aside>"
      ],
      "metadata": {
        "id": "24UYPlnMHZ6v"
      }
    },
    {
      "cell_type": "code",
      "source": [
        "def print_subsets(s):\n",
        "    def backtrack(start, subset):\n",
        "        print(subset)\n",
        "        for i in range(start, len(s)):\n",
        "            subset += s[i]\n",
        "            backtrack(i + 1, subset)\n",
        "            subset = subset[:-1]\n",
        "\n",
        "    backtrack(0, \"\")\n",
        "\n",
        "\n"
      ],
      "metadata": {
        "id": "G4dZqdyyHYO4"
      },
      "execution_count": 3,
      "outputs": []
    },
    {
      "cell_type": "markdown",
      "source": [
        "<aside>\n",
        "💡 **Question 4**\n",
        "\n",
        "Given a string calculate length of the string using recursion.\n",
        "\n"
      ],
      "metadata": {
        "id": "Fuy7zfzUHnKA"
      }
    },
    {
      "cell_type": "code",
      "source": [
        "def calculate_length(s):\n",
        "    if s == \"\":\n",
        "        return 0\n",
        "    return 1 + calculate_length(s[1:])\n",
        "\n",
        "\n"
      ],
      "metadata": {
        "id": "PFlMKawiHmNX"
      },
      "execution_count": 4,
      "outputs": []
    },
    {
      "cell_type": "markdown",
      "source": [
        "<aside>\n",
        "💡 **Question 5**\n",
        "\n",
        "We are given a string S, we need to find count of all contiguous substrings starting and ending with same character.\n",
        "\n",
        "**Examples :**\n",
        "\n",
        "</aside>"
      ],
      "metadata": {
        "id": "1YxWRKzUHzKa"
      }
    },
    {
      "cell_type": "code",
      "source": [
        "def count_substrings(s):\n",
        "    count = 0\n",
        "    n = len(s)\n",
        "\n",
        "\n",
        "    if n < 2:\n",
        "        return count\n",
        "\n",
        "\n",
        "    if s[0] == s[n-1]:\n",
        "        count += 1\n",
        "\n",
        "\n",
        "    count += count_substrings(s[:-1])\n",
        "\n",
        "    return count\n",
        "\n",
        "\n",
        "print(count_substrings(\"abcab\"))\n",
        "\n"
      ],
      "metadata": {
        "colab": {
          "base_uri": "https://localhost:8080/"
        },
        "id": "vMLG7dDiHyde",
        "outputId": "181a8387-2efc-430c-d978-584023e671b2"
      },
      "execution_count": 5,
      "outputs": [
        {
          "output_type": "stream",
          "name": "stdout",
          "text": [
            "1\n"
          ]
        }
      ]
    },
    {
      "cell_type": "markdown",
      "source": [
        "<aside>\n",
        "💡 **Question 6**\n",
        "\n",
        "The [tower of Hanoi](https://en.wikipedia.org/wiki/Tower_of_Hanoi) is a famous puzzle where we have three rods and **N** disks. The objective of the puzzle is to move the entire stack to another rod. You are given the number of discs **N**. Initially, these discs are in the rod 1. You need to print all the steps of discs movement so that all the discs reach the 3rd rod. Also, you need to find the total moves.**Note:** The discs are arranged such that the **top disc is numbered 1** and the **bottom-most disc is numbered N**. Also, all the discs have **different sizes** and a bigger disc **cannot** be put on the top of a smaller disc. Refer the provided link to get a better clarity about the puzzle.\n",
        "\n",
        "</aside>"
      ],
      "metadata": {
        "id": "oXy7RaLAIDYY"
      }
    },
    {
      "cell_type": "code",
      "source": [
        "def tower_of_hanoi(n, source, auxiliary, destination):\n",
        "    if n == 1:\n",
        "        print(f\"Move disk 1 from {source} to {destination}\")\n",
        "        return 1\n",
        "    else:\n",
        "        moves = 0\n",
        "        moves += tower_of_hanoi(n-1, source, destination, auxiliary)\n",
        "        print(f\"Move disk {n} from {source} to {destination}\")\n",
        "        moves += 1\n",
        "        moves += tower_of_hanoi(n-1, auxiliary, source, destination)\n",
        "        return moves\n",
        "\n",
        "n = 3\n",
        "source = \"A\"\n",
        "auxiliary = \"B\"\n",
        "destination = \"C\"\n",
        "\n",
        "total_moves = tower_of_hanoi(n, source, auxiliary, destination)\n",
        "print(f\"Total moves required: {total_moves}\")"
      ],
      "metadata": {
        "colab": {
          "base_uri": "https://localhost:8080/"
        },
        "id": "q-VAzfldIXq8",
        "outputId": "9c7a0ee3-cc49-450d-a828-6bd3b5f39ff5"
      },
      "execution_count": 6,
      "outputs": [
        {
          "output_type": "stream",
          "name": "stdout",
          "text": [
            "Move disk 1 from A to C\n",
            "Move disk 2 from A to B\n",
            "Move disk 1 from C to B\n",
            "Move disk 3 from A to C\n",
            "Move disk 1 from B to A\n",
            "Move disk 2 from B to C\n",
            "Move disk 1 from A to C\n",
            "Total moves required: 7\n"
          ]
        }
      ]
    },
    {
      "cell_type": "markdown",
      "source": [
        "<aside>\n",
        "💡 **Question 7**\n",
        "\n",
        "Given a string **str**, the task is to print all the permutations of **str**. A **permutation** is an arrangement of all or part of a set of objects, with regard to the order of the arrangement. For instance, the words ‘bat’ and ‘tab’ represents two distinct permutation (or arrangements) of a similar three letter word.\n",
        "\n",
        "**Examples:**\n",
        "\n",
        "> Input: str = “cd”\n",
        ">\n",
        ">\n",
        "> **Output:** cd dc\n",
        ">\n",
        "> **Input:** str = “abb”\n",
        ">\n",
        "> **Output:** abb abb bab bba bab bba\n",
        ">\n",
        "</aside>"
      ],
      "metadata": {
        "id": "qJY1mWP8IpMO"
      }
    },
    {
      "cell_type": "code",
      "source": [
        "def permute(s, l, r):\n",
        "    if l == r:\n",
        "        print(\"\".join(s))\n",
        "    else:\n",
        "        for i in range(l, r + 1):\n",
        "            s[l], s[i] = s[i], s[l]\n",
        "            permute(s, l + 1, r)\n",
        "            s[l], s[i] = s[i], s[l]\n",
        "\n",
        "\n",
        "str = \"abb\"\n",
        "n = len(str)\n",
        "s = list(str)\n",
        "permute(s, 0, n-1)\n"
      ],
      "metadata": {
        "colab": {
          "base_uri": "https://localhost:8080/"
        },
        "id": "uULhy831IliQ",
        "outputId": "caa32700-9b89-4daf-9fb8-99d022148d5d"
      },
      "execution_count": 7,
      "outputs": [
        {
          "output_type": "stream",
          "name": "stdout",
          "text": [
            "abb\n",
            "abb\n",
            "bab\n",
            "bba\n",
            "bba\n",
            "bab\n"
          ]
        }
      ]
    },
    {
      "cell_type": "markdown",
      "source": [
        "<aside>\n",
        "💡 **Question 8**\n",
        "\n",
        "Given a string, count total number of consonants in it. A consonant is an English alphabet character that is not vowel (a, e, i, o and u). Examples of constants are b, c, d, f, and g.\n",
        "\n",
        "**Examples :**\n",
        "\n",
        "```\n",
        "Input : abc de\n",
        "Output : 3\n",
        "There are three consonants b, c and d.\n",
        "\n",
        "Input : geeksforgeeks portal\n",
        "Output : 12\n",
        "```\n",
        "\n",
        "</aside>"
      ],
      "metadata": {
        "id": "QqgZotPOI6uj"
      }
    },
    {
      "cell_type": "code",
      "source": [
        "def count_consonants(string):\n",
        "    vowels = ['a', 'e', 'i', 'o', 'u']\n",
        "    count = 0\n",
        "\n",
        "    for char in string:\n",
        "        if char.isalpha() and char.lower() not in vowels:\n",
        "            count += 1\n",
        "\n",
        "    return count\n",
        "\n",
        "string = \"geeksforgeeks portal\"\n",
        "consonant_count = count_consonants(string)\n",
        "print(consonant_count)\n"
      ],
      "metadata": {
        "colab": {
          "base_uri": "https://localhost:8080/"
        },
        "id": "uD_d_T_VI5-c",
        "outputId": "8062c4a3-aa15-4523-a05e-cbb63543e323"
      },
      "execution_count": 8,
      "outputs": [
        {
          "output_type": "stream",
          "name": "stdout",
          "text": [
            "12\n"
          ]
        }
      ]
    }
  ]
}