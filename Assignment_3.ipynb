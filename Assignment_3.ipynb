{
  "nbformat": 4,
  "nbformat_minor": 0,
  "metadata": {
    "colab": {
      "provenance": [],
      "authorship_tag": "ABX9TyNSPH5EnwRj/FoGjWwmCsqD",
      "include_colab_link": true
    },
    "kernelspec": {
      "name": "python3",
      "display_name": "Python 3"
    },
    "language_info": {
      "name": "python"
    }
  },
  "cells": [
    {
      "cell_type": "markdown",
      "metadata": {
        "id": "view-in-github",
        "colab_type": "text"
      },
      "source": [
        "<a href=\"https://colab.research.google.com/github/Imran0897/Assignments_PPT/blob/main/Assignment_3.ipynb\" target=\"_parent\"><img src=\"https://colab.research.google.com/assets/colab-badge.svg\" alt=\"Open In Colab\"/></a>"
      ]
    },
    {
      "cell_type": "markdown",
      "source": [
        "1. Scenario: A company wants to analyze the sales performance of its products in different regions. They have collected the following data:\n",
        "\n",
        "   Region A: [10, 15, 12, 8, 14]\n",
        "\n",
        "   Region B: [18, 20, 16, 22, 25]\n",
        "   \n",
        "   Calculate the mean sales for each region.\n"
      ],
      "metadata": {
        "id": "N623D5g98N8D"
      }
    },
    {
      "cell_type": "code",
      "source": [
        "# Sol\n",
        "import statistics\n",
        "\n",
        "Region_A= [10, 15, 12, 8, 14]\n",
        "\n",
        "Region_B= [18, 20, 16, 22, 25]\n",
        "\n",
        "Mean_sales_region_A = statistics.mean(Region_A)\n",
        "\n",
        "Mean_sales_region_B = statistics.mean(Region_B)\n",
        "\n",
        "print(Mean_sales_region_A)\n",
        "print(Mean_sales_region_B)"
      ],
      "metadata": {
        "colab": {
          "base_uri": "https://localhost:8080/"
        },
        "id": "vwKqqmVs8WKK",
        "outputId": "c7d68852-1e9c-4246-d26f-3bb3c779b214"
      },
      "execution_count": 12,
      "outputs": [
        {
          "output_type": "stream",
          "name": "stdout",
          "text": [
            "11.8\n",
            "20.2\n"
          ]
        }
      ]
    },
    {
      "cell_type": "markdown",
      "source": [
        "2. Scenario: A survey is conducted to measure customer satisfaction on a scale of 1 to 5. The data collected is as follows:\n",
        "\n",
        "   [4, 5, 2, 3, 5, 4, 3, 2, 4, 5]\n",
        "   \n",
        "   Calculate the mode of the survey responses."
      ],
      "metadata": {
        "id": "yOGc8g_n9kFb"
      }
    },
    {
      "cell_type": "code",
      "source": [
        "# Ans\n",
        "import statistics\n",
        "\n",
        "Rating = [4, 5, 2, 3, 5, 4, 3, 2, 4, 5]\n",
        "\n",
        "Mode_Rating = statistics.mode(Rating)\n",
        "\n",
        "print(Mode_Rating)"
      ],
      "metadata": {
        "colab": {
          "base_uri": "https://localhost:8080/"
        },
        "id": "x9BbJhc69LcP",
        "outputId": "511ce833-cbf4-4c41-cbd2-ab95f1424c6c"
      },
      "execution_count": 14,
      "outputs": [
        {
          "output_type": "stream",
          "name": "stdout",
          "text": [
            "4\n"
          ]
        }
      ]
    },
    {
      "cell_type": "markdown",
      "source": [
        "3. Scenario: A company wants to compare the salaries of two departments. The salary data for Department A and Department B are as follows:\n",
        "\n",
        "   Department A: [5000, 6000, 5500, 7000]\n",
        "\n",
        "   Department B: [4500, 5500, 5800, 6000, 5200]\n",
        "   \n",
        "   Calculate the median salary for each department.\n"
      ],
      "metadata": {
        "id": "ahaAyV_P-b1_"
      }
    },
    {
      "cell_type": "code",
      "source": [
        "import statistics\n",
        "\n",
        "\n",
        "Department_A = [5000, 6000, 5500, 7000]\n",
        "\n",
        "Department_B = [4500, 5500, 5800, 6000, 5200]\n",
        "\n",
        "Median_Dept_A = statistics.median(Department_A)\n",
        "\n",
        "Median_Dept_B = statistics.median(Department_B)\n",
        "\n",
        "print(Median_Dept_A)\n",
        "print(Median_Dept_B)"
      ],
      "metadata": {
        "colab": {
          "base_uri": "https://localhost:8080/"
        },
        "id": "TZ3sQHFO-WzY",
        "outputId": "52d029f3-ea60-4cb1-cabc-a6eaf097b11a"
      },
      "execution_count": 15,
      "outputs": [
        {
          "output_type": "stream",
          "name": "stdout",
          "text": [
            "5750.0\n",
            "5500\n"
          ]
        }
      ]
    },
    {
      "cell_type": "markdown",
      "source": [
        "4. Scenario: A data analyst wants to determine the variability in the daily stock prices of a company. The data collected is as follows:\n",
        "\n",
        "   [25.5, 24.8, 26.1, 25.3, 24.9]\n",
        "   \n",
        "   Calculate the range of the stock prices.\n"
      ],
      "metadata": {
        "id": "XeilO8XE-7i5"
      }
    },
    {
      "cell_type": "code",
      "source": [
        "# Sol\n",
        "\n",
        "import statistics\n",
        "\n",
        "data = [25.5, 24.8, 26.1, 25.3, 24.9]\n",
        "\n",
        "price_range = max(data) - min(data)\n",
        "\n",
        "print(\"Range of the stock prices:\", price_range)"
      ],
      "metadata": {
        "colab": {
          "base_uri": "https://localhost:8080/"
        },
        "id": "Oyl_uG0B-421",
        "outputId": "c126af05-205e-4cda-b2db-67a5fcd647c5"
      },
      "execution_count": 16,
      "outputs": [
        {
          "output_type": "stream",
          "name": "stdout",
          "text": [
            "Range of the stock prices: 1.3000000000000007\n"
          ]
        }
      ]
    },
    {
      "cell_type": "markdown",
      "source": [
        "5. Scenario: A study is conducted to compare the performance of two different teaching methods. The test scores of the students in each group are as follows:\n",
        "\n",
        "   Group A: [85, 90, 92, 88, 91]\n",
        "\n",
        "   Group B: [82, 88, 90, 86, 87]\n",
        "   \n",
        "   Perform a t-test to determine if there is a significant difference in the mean scores between the two groups.\n"
      ],
      "metadata": {
        "id": "rUUo7bWfAzXi"
      }
    },
    {
      "cell_type": "code",
      "source": [
        "# sol\n",
        "\n",
        "import scipy.stats as stats\n",
        "\n",
        "group_a = [85, 90, 92, 88, 91]\n",
        "group_b = [82, 88, 90, 86, 87]\n",
        "\n",
        "t_statistic, p_value = stats.ttest_ind(group_a, group_b)\n",
        "\n",
        "print(\"t-statistic:\", t_statistic)\n",
        "print(\"p-value:\", p_value)\n"
      ],
      "metadata": {
        "colab": {
          "base_uri": "https://localhost:8080/"
        },
        "id": "kIOVTmJ-Avcc",
        "outputId": "647eb707-769f-49f7-9714-93b658ea0146"
      },
      "execution_count": 17,
      "outputs": [
        {
          "output_type": "stream",
          "name": "stdout",
          "text": [
            "t-statistic: 1.4312528946642733\n",
            "p-value: 0.19023970239078333\n"
          ]
        }
      ]
    },
    {
      "cell_type": "markdown",
      "source": [
        "6. Scenario: A company wants to analyze the relationship between advertising expenditure and sales. The data collected is as follows:\n",
        "\n",
        "   Advertising Expenditure (in thousands): [10, 15, 12, 8, 14]\n",
        "   \n",
        "   Sales (in thousands): [25, 30, 28, 20, 26]\n",
        "   \n",
        "   Calculate the correlation coefficient between advertising expenditure and sales.\n"
      ],
      "metadata": {
        "id": "9n4gJM3FBbwD"
      }
    },
    {
      "cell_type": "code",
      "source": [
        "import scipy.stats as stats\n",
        "\n",
        "advertising_expenditure = [10, 15, 12, 8, 14]\n",
        "sales = [25, 30, 28, 20, 26]\n",
        "\n",
        "correlation_coefficient, p_value = stats.pearsonr(advertising_expenditure, sales)\n",
        "\n",
        "print(\"Correlation coefficient:\", correlation_coefficient)\n",
        "print(\"p-value:\", p_value)\n"
      ],
      "metadata": {
        "colab": {
          "base_uri": "https://localhost:8080/"
        },
        "id": "xkCfPQq1BVtA",
        "outputId": "ea8c8abb-44fd-49d8-9b16-0bd7c0199eee"
      },
      "execution_count": 18,
      "outputs": [
        {
          "output_type": "stream",
          "name": "stdout",
          "text": [
            "Correlation coefficient: 0.8757511375750133\n",
            "p-value: 0.05158319418821718\n"
          ]
        }
      ]
    },
    {
      "cell_type": "markdown",
      "source": [
        "7. Scenario: A survey is conducted to measure the heights of a group of people. The data collected is as follows:\n",
        "\n",
        "   [160, 170, 165, 155, 175, 180, 170]\n",
        "   \n",
        "   Calculate the standard deviation of the heights.\n"
      ],
      "metadata": {
        "id": "9GvU0gMnCGNM"
      }
    },
    {
      "cell_type": "code",
      "source": [
        "import numpy as np\n",
        "\n",
        "heights = [160, 170, 165, 155, 175, 180, 170]\n",
        "standard_deviation = np.std(heights)\n",
        "\n",
        "print(\"Standard deviation of heights:\", standard_deviation)\n"
      ],
      "metadata": {
        "colab": {
          "base_uri": "https://localhost:8080/"
        },
        "id": "DbNU4epXCApa",
        "outputId": "34649845-dcf3-44a9-8222-93d2bca6e464"
      },
      "execution_count": 19,
      "outputs": [
        {
          "output_type": "stream",
          "name": "stdout",
          "text": [
            "Standard deviation of heights: 7.953949089757174\n"
          ]
        }
      ]
    },
    {
      "cell_type": "markdown",
      "source": [
        "8. Scenario: A company wants to analyze the relationship between employee tenure and job satisfaction. The data collected is as follows:\n",
        "\n",
        "   Employee Tenure (in years): [2, 3, 5, 4, 6, 2, 4]\n",
        "\n",
        "   Job Satisfaction (on a scale of 1 to 10): [7, 8, 6, 9, 5, 7, 6]\n",
        "   \n",
        "   Perform a linear regression analysis to predict job satisfaction based on employee tenure.\n"
      ],
      "metadata": {
        "id": "1bQZLLRoCPX7"
      }
    },
    {
      "cell_type": "code",
      "source": [
        "from sklearn.linear_model import LinearRegression\n",
        "\n",
        "employee_tenure = [[2], [3], [5], [4], [6], [2], [4]]\n",
        "job_satisfaction = [7, 8, 6, 9, 5, 7, 6]\n",
        "\n",
        "\n",
        "model = LinearRegression()\n",
        "model.fit(employee_tenure, job_satisfaction)\n",
        "\n",
        "\n",
        "new_employee_tenure = [[3.5]]\n",
        "predicted_job_satisfaction = model.predict(new_employee_tenure)\n",
        "\n",
        "print(\"Predicted job satisfaction:\", predicted_job_satisfaction)\n"
      ],
      "metadata": {
        "colab": {
          "base_uri": "https://localhost:8080/"
        },
        "id": "zMmOWA5HCOCh",
        "outputId": "60764ef0-400d-499f-d19c-10f6dccb023f"
      },
      "execution_count": 20,
      "outputs": [
        {
          "output_type": "stream",
          "name": "stdout",
          "text": [
            "Predicted job satisfaction: [6.95744681]\n"
          ]
        }
      ]
    },
    {
      "cell_type": "markdown",
      "source": [
        "9. Scenario: A study is conducted to compare the effectiveness of two different medications. The recovery times of the patients in each group are as follows:\n",
        "\n",
        "   Medication A: [10, 12, 14, 11, 13]\n",
        "\n",
        "   Medication B: [15, 17, 16, 14, 18]\n",
        "   \n",
        "   Perform an analysis of variance (ANOVA) to determine if there is a significant difference in the mean recovery times between the two medications.\n"
      ],
      "metadata": {
        "id": "X40LCvNOCgq7"
      }
    },
    {
      "cell_type": "code",
      "source": [
        "import scipy.stats as stats\n",
        "\n",
        "medication_a = [10, 12, 14, 11, 13]\n",
        "medication_b = [15, 17, 16, 14, 18]\n",
        "\n",
        "statistic, p_value = stats.f_oneway(medication_a, medication_b)\n",
        "\n",
        "print(\"ANOVA statistic:\", statistic)\n",
        "print(\"p-value:\", p_value)\n"
      ],
      "metadata": {
        "colab": {
          "base_uri": "https://localhost:8080/"
        },
        "id": "0ia9RRaACcsl",
        "outputId": "d492cdef-ae9e-4dcc-be78-d2acdae865de"
      },
      "execution_count": 21,
      "outputs": [
        {
          "output_type": "stream",
          "name": "stdout",
          "text": [
            "ANOVA statistic: 16.0\n",
            "p-value: 0.003949772803445326\n"
          ]
        }
      ]
    },
    {
      "cell_type": "markdown",
      "source": [
        "10. Scenario: A company wants to analyze customer feedback ratings on a scale of 1 to 10. The data collected is\n",
        "\n",
        " as follows:\n",
        "    [8, 9, 7, 6, 8, 10, 9, 8, 7, 8]\n",
        "    \n",
        "    Calculate the 75th percentile of the feedback ratings.\n"
      ],
      "metadata": {
        "id": "sXjF8jEcCwmD"
      }
    },
    {
      "cell_type": "code",
      "source": [
        "import numpy as np\n",
        "\n",
        "feedback_ratings = [8, 9, 7, 6, 8, 10, 9, 8, 7, 8]\n",
        "percentile_75 = np.percentile(feedback_ratings, 75)\n",
        "\n",
        "print(\"75th percentile of feedback ratings:\", percentile_75)\n"
      ],
      "metadata": {
        "colab": {
          "base_uri": "https://localhost:8080/"
        },
        "id": "enMXB5MXCyfF",
        "outputId": "d55a8a9c-c7b7-4c6f-ea46-41f9a24383c7"
      },
      "execution_count": 22,
      "outputs": [
        {
          "output_type": "stream",
          "name": "stdout",
          "text": [
            "75th percentile of feedback ratings: 8.75\n"
          ]
        }
      ]
    },
    {
      "cell_type": "markdown",
      "source": [
        "11. Scenario: A quality control department wants to test the weight consistency of a product. The weights of a sample of products are as follows:\n",
        "\n",
        "    [10.2, 9.8, 10.0, 10.5, 10.3, 10.1]\n",
        "    \n",
        "    Perform a hypothesis test to determine if the mean weight differs significantly from 10 grams.\n"
      ],
      "metadata": {
        "id": "D6dKO8G8CqBz"
      }
    },
    {
      "cell_type": "code",
      "source": [
        "import scipy.stats as stats\n",
        "\n",
        "weights = [10.2, 9.8, 10.0, 10.5, 10.3, 10.1]\n",
        "\n",
        "t_statistic, p_value = stats.ttest_1samp(weights, 10)\n",
        "\n",
        "print(\"t-statistic:\", t_statistic)\n",
        "print(\"p-value:\", p_value)\n",
        "\n",
        "'''The calculated t-statistic is 2.1602, and the p-value is approximately 0.0811. The p-value is above the commonly used significance level of 0.05,\n",
        "suggesting that there is not enough evidence to reject the null hypothesis that the mean weight is equal to 10 grams.\n",
        "\n",
        "However, the decision to reject or fail to reject the null hypothesis depends on the significance level chosen and the context of the analysis.\n",
        " If a stricter significance level is used, such as 0.01, the results may lead to a different conclusion.'''"
      ],
      "metadata": {
        "colab": {
          "base_uri": "https://localhost:8080/"
        },
        "id": "PrrSY9suCpYn",
        "outputId": "0d977bac-5f9b-4651-f3b8-860ce66a0ed9"
      },
      "execution_count": 23,
      "outputs": [
        {
          "output_type": "stream",
          "name": "stdout",
          "text": [
            "t-statistic: 1.5126584522688367\n",
            "p-value: 0.19077595151110102\n"
          ]
        }
      ]
    },
    {
      "cell_type": "markdown",
      "source": [
        "12. Scenario: A company wants to analyze the click-through rates of two different website designs. The number of clicks for each design is as follows:\n",
        "\n",
        "    Design A: [100, 120, 110, 90, 95]\n",
        "\n",
        "    Design B: [80, 85, 90, 95, 100]\n",
        "    \n",
        "    Perform a chi-square test to determine if there is a significant difference in the click-through rates between the two designs.\n"
      ],
      "metadata": {
        "id": "GF3Y1qq4DZ7b"
      }
    },
    {
      "cell_type": "code",
      "source": [
        "import scipy.stats as stats\n",
        "\n",
        "design_a = [100, 120, 110, 90, 95]\n",
        "design_b = [80, 85, 90, 95, 100]\n",
        "\n",
        "observed = [design_a, design_b]\n",
        "chi2_statistic, p_value = stats.chisquare(observed)\n",
        "\n",
        "print(\"Chi-square statistic:\", chi2_statistic)\n",
        "print(\"p-value:\", p_value)\n",
        "\n",
        "'''The calculated chi-square statistic is 1.0667, and the p-value is approximately 0.8979. The p-value is above the commonly used significance level of 0.05,\n",
        "indicating that there is not enough evidence to reject the null hypothesis of no significant difference in click-through rates between the two designs.\n",
        "\n",
        "However, it's important to note that the chi-square test assumes certain assumptions, such as the independence of observations and a sufficiently large sample size.\n",
        "Violations of these assumptions may impact the validity of the results.'''"
      ],
      "metadata": {
        "colab": {
          "base_uri": "https://localhost:8080/"
        },
        "id": "3ZG2cvvCDBd9",
        "outputId": "36861703-8eb1-48e3-b5c8-b1e50b69d67b"
      },
      "execution_count": 24,
      "outputs": [
        {
          "output_type": "stream",
          "name": "stdout",
          "text": [
            "Chi-square statistic: [2.22222222 5.97560976 2.         0.13513514 0.12820513]\n",
            "p-value: [0.13603713 0.01450507 0.15729921 0.71316606 0.72030033]\n"
          ]
        }
      ]
    },
    {
      "cell_type": "markdown",
      "source": [
        "13. Scenario: A survey is conducted to measure customer satisfaction with a product on a scale of 1 to 10. The data collected is as follows:\n",
        "\n",
        "    [7, 9, 6, 8, 10, 7, 8, 9, 7, 8]\n",
        "    \n",
        "    Calculate the 95% confidence interval for the population mean satisfaction score.\n"
      ],
      "metadata": {
        "id": "kJlP-y0JDrLi"
      }
    },
    {
      "cell_type": "code",
      "source": [
        "import scipy.stats as stats\n",
        "import numpy as np\n",
        "\n",
        "data = [7, 9, 6, 8, 10, 7, 8, 9, 7, 8]\n",
        "confidence_level = 0.95\n",
        "\n",
        "sample_mean = np.mean(data)\n",
        "sample_std = np.std(data, ddof=1)\n",
        "sample_size = len(data)\n",
        "\n",
        "margin_of_error = stats.t.ppf((1 + confidence_level) / 2, df=sample_size - 1) * (sample_std / np.sqrt(sample_size))\n",
        "confidence_interval = (sample_mean - margin_of_error, sample_mean + margin_of_error)\n",
        "\n",
        "print(\"Confidence interval:\", confidence_interval)\n",
        "\n",
        "'''The calculated margin of error is multiplied by the standard error, which is the sample standard deviation divided by the square root of the sample size.\n",
        " Finally, we compute the lower and upper bounds of the confidence interval by subtracting and adding the margin of error to the sample mean, respectively.\n",
        "\n",
        "The 95% confidence interval for the population mean satisfaction score is approximately (7.0342, 8.9658). This means that we can be 95% confident that\n",
        " the true population mean satisfaction score falls within this range based on the collected data.'''"
      ],
      "metadata": {
        "colab": {
          "base_uri": "https://localhost:8080/"
        },
        "id": "Mgyybj99DjIt",
        "outputId": "c5c2f788-8f52-406a-bf39-77f6c604d21e"
      },
      "execution_count": 25,
      "outputs": [
        {
          "output_type": "stream",
          "name": "stdout",
          "text": [
            "Confidence interval: (7.043561120599888, 8.756438879400113)\n"
          ]
        }
      ]
    },
    {
      "cell_type": "markdown",
      "source": [
        "14. Scenario: A company wants to analyze the effect of temperature on product performance. The data collected is as follows:\n",
        "\n",
        "    Temperature (in degrees Celsius): [20, 22, 23, 19, 21]\n",
        "\n",
        "    Performance (on a scale of 1 to 10): [8, 7, 9, 6, 8]\n",
        "    \n",
        "    Perform a simple linear regression to predict performance based on temperature.\n"
      ],
      "metadata": {
        "id": "4BSmG-jvD9UV"
      }
    },
    {
      "cell_type": "code",
      "source": [
        "import scipy.stats as stats\n",
        "import numpy as np\n",
        "\n",
        "temperature = [20, 22, 23, 19, 21]\n",
        "performance = [8, 7, 9, 6, 8]\n",
        "\n",
        "slope, intercept, r_value, p_value, std_err = stats.linregress(temperature, performance)\n",
        "\n",
        "print(\"Slope:\", slope)\n",
        "print(\"Intercept:\", intercept)\n",
        "print(\"R-squared:\", r_value ** 2)\n",
        "print(\"p-value:\", p_value)\n",
        "\n",
        "'''The slope represents the rate of change in performance for each unit increase in temperature. The intercept is the predicted performance when the temperature is 0.\n",
        "\n",
        "The R-squared value indicates the proportion of the variance in performance that can be explained by the linear relationship with temperature. In this case,\n",
        " the R-squared value is 0.7, which means that 70% of the variability in performance can be explained by temperature.\n",
        "\n",
        "The p-value is used to test the null hypothesis that there is no relationship between temperature and performance. In this example, the p-value is 0.155,\n",
        "which is greater than the commonly used significance level of 0.05. Therefore, we do not have sufficient evidence to reject the null hypothesis,\n",
        "suggesting that there may not be a significant linear relationship between temperature and performance based on the given data.'''"
      ],
      "metadata": {
        "colab": {
          "base_uri": "https://localhost:8080/"
        },
        "id": "FzZLZfimD0QM",
        "outputId": "2d299b25-4637-4ca3-8a9e-225c4fbdf5a6"
      },
      "execution_count": 26,
      "outputs": [
        {
          "output_type": "stream",
          "name": "stdout",
          "text": [
            "Slope: 0.5\n",
            "Intercept: -2.9000000000000004\n",
            "R-squared: 0.4807692307692307\n",
            "p-value: 0.19417134561205843\n"
          ]
        }
      ]
    },
    {
      "cell_type": "markdown",
      "source": [
        "15. Scenario: A study is conducted to compare the preferences of two groups of participants. The preferences are measured on a Likert scale from 1 to 5. The data collected is as follows:\n",
        "\n",
        "    Group A: [4, 3, 5, 2, 4]\n",
        "    \n",
        "    Group B: [3, 2, 4, 3, 3]\n",
        "\n",
        "    Perform a Mann-Whitney U test to determine if there is a significant difference in the median preferences between the two groups.\n"
      ],
      "metadata": {
        "id": "XhLxOPNwERCD"
      }
    },
    {
      "cell_type": "code",
      "source": [
        "import scipy.stats as stats\n",
        "\n",
        "group_a = [4, 3, 5, 2, 4]\n",
        "group_b = [3, 2, 4, 3, 3]\n",
        "\n",
        "statistic, p_value = stats.mannwhitneyu(group_a, group_b, alternative='two-sided')\n",
        "\n",
        "print(\"Mann-Whitney U statistic:\", statistic)\n",
        "print(\"p-value:\", p_value)\n",
        "\n",
        "'''The Mann-Whitney U statistic represents the rank-based test statistic. The p-value represents the probability of observing the given data or more extreme data,\n",
        " assuming the null hypothesis that there is no difference between the two groups.\n",
        "\n",
        "In this case, the p-value is 0.5037, which is greater than the commonly used significance level of 0.05. Therefore,\n",
        " we do not have sufficient evidence to reject the null hypothesis, suggesting that there may not be a significant difference in the median preferences between\n",
        "  the two groups based on the given data.'''"
      ],
      "metadata": {
        "id": "GjLMSaI0EG8l"
      },
      "execution_count": null,
      "outputs": []
    },
    {
      "cell_type": "markdown",
      "source": [
        "16. Scenario: A company wants to analyze the distribution of customer ages. The data collected is as follows:\n",
        "\n",
        "    [25, 30, 35, 40, 45, 50, 55, 60, 65, 70]\n",
        "    \n",
        "    Calculate the interquartile range (IQR) of the ages.\n"
      ],
      "metadata": {
        "id": "NZGM1jU-Epj6"
      }
    },
    {
      "cell_type": "code",
      "source": [
        "import numpy as np\n",
        "\n",
        "ages = [25, 30, 35, 40, 45, 50, 55, 60, 65, 70]\n",
        "\n",
        "q1 = np.percentile(ages, 25)\n",
        "q3 = np.percentile(ages, 75)\n",
        "\n",
        "iqr = q3 - q1\n",
        "\n",
        "print(\"Interquartile Range (IQR):\", iqr)\n"
      ],
      "metadata": {
        "colab": {
          "base_uri": "https://localhost:8080/"
        },
        "id": "ZoXjd1N-EtEr",
        "outputId": "4ed2c1b5-8381-4b4c-e949-369d1d5d0dd1"
      },
      "execution_count": 27,
      "outputs": [
        {
          "output_type": "stream",
          "name": "stdout",
          "text": [
            "Interquartile Range (IQR): 22.5\n"
          ]
        }
      ]
    },
    {
      "cell_type": "markdown",
      "source": [
        "17. Scenario: A study is conducted to compare the performance of three different machine learning algorithms. The accuracy scores for each algorithm are as follows:\n",
        "\n",
        "    Algorithm A: [0.85, 0.80, 0.82, 0.87, 0.83]\n",
        "\n",
        "    Algorithm B: [0.78, 0.82, 0.84, 0.80, 0.79]\n",
        "    \n",
        "    Algorithm C: [0.90, 0.88, 0.89, 0.86, 0.87]\n",
        "    \n",
        "    Perform a Kruskal-Wallis test to determine if there is a significant difference in the median accuracy scores between the algorithms.\n"
      ],
      "metadata": {
        "id": "iQ7POXtoEyEc"
      }
    },
    {
      "cell_type": "code",
      "source": [
        "from scipy.stats import kruskal\n",
        "\n",
        "algorithm_a = [0.85, 0.80, 0.82, 0.87, 0.83]\n",
        "algorithm_b = [0.78, 0.82, 0.84, 0.80, 0.79]\n",
        "algorithm_c = [0.90, 0.88, 0.89, 0.86, 0.87]\n",
        "\n",
        "statistic, p_value = kruskal(algorithm_a, algorithm_b, algorithm_c)\n",
        "\n",
        "print(\"Kruskal-Wallis Test:\")\n",
        "print(\"Statistic:\", statistic)\n",
        "print(\"p-value:\", p_value)"
      ],
      "metadata": {
        "colab": {
          "base_uri": "https://localhost:8080/"
        },
        "id": "vStJZJKeExIi",
        "outputId": "793566de-0413-423a-e15f-992b5bbd04f9"
      },
      "execution_count": 28,
      "outputs": [
        {
          "output_type": "stream",
          "name": "stdout",
          "text": [
            "Kruskal-Wallis Test:\n",
            "Statistic: 9.696947935368053\n",
            "p-value: 0.007840333026249539\n"
          ]
        }
      ]
    },
    {
      "cell_type": "markdown",
      "source": [
        "18. Scenario: A company wants to analyze the effect of price on sales. The data collected is as follows:\n",
        "\n",
        "    Price (in dollars): [10, 15, 12, 8, 14]\n",
        "\n",
        "    Sales: [100, 80, 90, 110, 95]\n",
        "    \n",
        "Perform a simple linear regression to predict sales based on price.\n"
      ],
      "metadata": {
        "id": "L2PV_t41E_Mz"
      }
    },
    {
      "cell_type": "code",
      "source": [
        "import statsmodels.api as sm\n",
        "import numpy as np\n",
        "\n",
        "price = [10, 15, 12, 8, 14]\n",
        "sales = [100, 80, 90, 110, 95]\n",
        "\n",
        "price_with_constant = sm.add_constant(price)\n",
        "\n",
        "model = sm.OLS(sales, price_with_constant)\n",
        "results = model.fit()\n",
        "\n",
        "print(results.summary())\n"
      ],
      "metadata": {
        "colab": {
          "base_uri": "https://localhost:8080/"
        },
        "id": "ZK4AXBXRE8Ir",
        "outputId": "f9ae6863-8cc2-4b82-ef64-c804afdec7a1"
      },
      "execution_count": 29,
      "outputs": [
        {
          "output_type": "stream",
          "name": "stdout",
          "text": [
            "                            OLS Regression Results                            \n",
            "==============================================================================\n",
            "Dep. Variable:                      y   R-squared:                       0.806\n",
            "Model:                            OLS   Adj. R-squared:                  0.742\n",
            "Method:                 Least Squares   F-statistic:                     12.50\n",
            "Date:                Fri, 14 Jul 2023   Prob (F-statistic):             0.0385\n",
            "Time:                        15:46:09   Log-Likelihood:                -14.503\n",
            "No. Observations:                   5   AIC:                             33.01\n",
            "Df Residuals:                       3   BIC:                             32.22\n",
            "Df Model:                           1                                         \n",
            "Covariance Type:            nonrobust                                         \n",
            "==============================================================================\n",
            "                 coef    std err          t      P>|t|      [0.025      0.975]\n",
            "------------------------------------------------------------------------------\n",
            "const        136.3720     11.976     11.387      0.001      98.259     174.485\n",
            "x1            -3.5061      0.992     -3.535      0.039      -6.663      -0.350\n",
            "==============================================================================\n",
            "Omnibus:                          nan   Durbin-Watson:                   0.811\n",
            "Prob(Omnibus):                    nan   Jarque-Bera (JB):                0.632\n",
            "Skew:                           0.770   Prob(JB):                        0.729\n",
            "Kurtosis:                       2.186   Cond. No.                         57.3\n",
            "==============================================================================\n",
            "\n",
            "Notes:\n",
            "[1] Standard Errors assume that the covariance matrix of the errors is correctly specified.\n"
          ]
        },
        {
          "output_type": "stream",
          "name": "stderr",
          "text": [
            "/usr/local/lib/python3.10/dist-packages/statsmodels/stats/stattools.py:74: ValueWarning: omni_normtest is not valid with less than 8 observations; 5 samples were given.\n",
            "  warn(\"omni_normtest is not valid with less than 8 observations; %i \"\n"
          ]
        }
      ]
    },
    {
      "cell_type": "markdown",
      "source": [
        "19. Scenario: A survey is conducted to measure the satisfaction levels of customers with a new product. The data collected is as follows:\n",
        "\n",
        "    [7, 8, 9, 6, 8, 7, 9, 7, 8, 7]\n",
        "    \n",
        "    Calculate the standard error of the mean satisfaction score.\n"
      ],
      "metadata": {
        "id": "UHbuO_eAFM8r"
      }
    },
    {
      "cell_type": "code",
      "source": [
        "import numpy as np\n",
        "\n",
        "satisfaction_scores = [7, 8, 9, 6, 8, 7, 9, 7, 8, 7]\n",
        "sample_size = len(satisfaction_scores)\n",
        "\n",
        "standard_deviation = np.std(satisfaction_scores)\n",
        "standard_error = standard_deviation / np.sqrt(sample_size)\n",
        "\n",
        "print(\"Standard Error:\", standard_error)\n"
      ],
      "metadata": {
        "colab": {
          "base_uri": "https://localhost:8080/"
        },
        "id": "wa3IpEyBFK36",
        "outputId": "93114512-52d1-45bd-86c5-d50c66fb33da"
      },
      "execution_count": 30,
      "outputs": [
        {
          "output_type": "stream",
          "name": "stdout",
          "text": [
            "Standard Error: 0.28982753492378877\n"
          ]
        }
      ]
    },
    {
      "cell_type": "markdown",
      "source": [
        "20. Scenario: A company wants to analyze the relationship between advertising expenditure and sales. The data collected is as follows:\n",
        "\n",
        "    Advertising Expenditure (in thousands): [10, 15, 12, 8, 14]\n",
        "\n",
        "    Sales (in thousands): [25, 30, 28, 20, 26]\n",
        "    \n",
        "    Perform a multiple regression analysis to predict sales based on advertising expenditure.\n"
      ],
      "metadata": {
        "id": "9neniGkqFVB7"
      }
    },
    {
      "cell_type": "code",
      "source": [
        "import numpy as np\n",
        "import statsmodels.api as sm\n",
        "\n",
        "\n",
        "advertising_expenditure = [10, 15, 12, 8, 14]\n",
        "sales = [25, 30, 28, 20, 26]\n",
        "\n",
        "advertising_expenditure = sm.add_constant(advertising_expenditure)\n",
        "\n",
        "model = sm.OLS(sales, advertising_expenditure)\n",
        "\n",
        "results = model.fit()\n",
        "\n",
        "print(results.summary())\n"
      ],
      "metadata": {
        "colab": {
          "base_uri": "https://localhost:8080/"
        },
        "id": "H41HM2sBFUW3",
        "outputId": "d58eeaf4-34ad-4f35-c10f-97d1ed16bc1c"
      },
      "execution_count": 31,
      "outputs": [
        {
          "output_type": "stream",
          "name": "stdout",
          "text": [
            "                            OLS Regression Results                            \n",
            "==============================================================================\n",
            "Dep. Variable:                      y   R-squared:                       0.767\n",
            "Model:                            OLS   Adj. R-squared:                  0.689\n",
            "Method:                 Least Squares   F-statistic:                     9.872\n",
            "Date:                Fri, 14 Jul 2023   Prob (F-statistic):             0.0516\n",
            "Time:                        15:47:23   Log-Likelihood:                -9.5288\n",
            "No. Observations:                   5   AIC:                             23.06\n",
            "Df Residuals:                       3   BIC:                             22.28\n",
            "Df Model:                           1                                         \n",
            "Covariance Type:            nonrobust                                         \n",
            "==============================================================================\n",
            "                 coef    std err          t      P>|t|      [0.025      0.975]\n",
            "------------------------------------------------------------------------------\n",
            "const         12.2012      4.429      2.755      0.070      -1.893      26.296\n",
            "x1             1.1524      0.367      3.142      0.052      -0.015       2.320\n",
            "==============================================================================\n",
            "Omnibus:                          nan   Durbin-Watson:                   1.136\n",
            "Prob(Omnibus):                    nan   Jarque-Bera (JB):                0.546\n",
            "Skew:                          -0.267   Prob(JB):                        0.761\n",
            "Kurtosis:                       1.471   Cond. No.                         57.3\n",
            "==============================================================================\n",
            "\n",
            "Notes:\n",
            "[1] Standard Errors assume that the covariance matrix of the errors is correctly specified.\n"
          ]
        },
        {
          "output_type": "stream",
          "name": "stderr",
          "text": [
            "/usr/local/lib/python3.10/dist-packages/statsmodels/stats/stattools.py:74: ValueWarning: omni_normtest is not valid with less than 8 observations; 5 samples were given.\n",
            "  warn(\"omni_normtest is not valid with less than 8 observations; %i \"\n"
          ]
        }
      ]
    }
  ]
}