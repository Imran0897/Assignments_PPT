{
  "nbformat": 4,
  "nbformat_minor": 0,
  "metadata": {
    "colab": {
      "provenance": [],
      "authorship_tag": "ABX9TyN2+oDMOnLxwiqM/sue2TRW",
      "include_colab_link": true
    },
    "kernelspec": {
      "name": "python3",
      "display_name": "Python 3"
    },
    "language_info": {
      "name": "python"
    }
  },
  "cells": [
    {
      "cell_type": "markdown",
      "metadata": {
        "id": "view-in-github",
        "colab_type": "text"
      },
      "source": [
        "<a href=\"https://colab.research.google.com/github/Imran0897/Assignments_PPT/blob/main/Assignment_9_Recursion_(Deadline_09_June_2023).ipynb\" target=\"_parent\"><img src=\"https://colab.research.google.com/assets/colab-badge.svg\" alt=\"Open In Colab\"/></a>"
      ]
    },
    {
      "cell_type": "markdown",
      "source": [
        "<aside>\n",
        "💡 **Question 1**\n",
        "\n",
        "Given an integer `n`, return *`true` if it is a power of two. Otherwise, return `false`*.\n",
        "\n",
        "An integer `n` is a power of two, if there exists an integer `x` such that `n == 2x`.\n",
        "\n",
        "**Example 1:**\n",
        "Input: n = 1\n",
        "\n",
        "Output: true\n",
        "\n",
        "**Example 2:**\n",
        "Input: n = 16\n",
        "\n",
        "Output: true\n",
        "\n",
        "**Example 3:**\n",
        "Input: n = 3\n",
        "\n",
        "Output: false\n",
        "\n",
        "</aside>"
      ],
      "metadata": {
        "id": "tbATxGQFEVxD"
      }
    },
    {
      "cell_type": "code",
      "source": [
        "def isPowerOfTwo(n):\n",
        "    if n <= 0:\n",
        "        return False\n",
        "    return n & (n - 1) == 0\n",
        ""
      ],
      "metadata": {
        "id": "lCVW2Lf8EifZ"
      },
      "execution_count": 2,
      "outputs": []
    },
    {
      "cell_type": "markdown",
      "source": [
        "<aside>\n",
        "💡 **Question 2**\n",
        "\n",
        "Given a number n, find the sum of the first natural numbers.\n",
        "\n",
        "**Example 1:**\n",
        "\n",
        "Input: n = 3\n",
        "\n",
        "Output: 6\n",
        "\n",
        "**Example 2:**\n",
        "\n",
        "Input  : 5\n",
        "\n",
        "Output : 15\n",
        "\n",
        "</aside>"
      ],
      "metadata": {
        "id": "v_v6eHGdEtqN"
      }
    },
    {
      "cell_type": "code",
      "source": [
        "def sumOfNaturalNumbers(n):\n",
        "    return (n * (n + 1)) // 2\n",
        "\n",
        "\n"
      ],
      "metadata": {
        "id": "eRwvoxiZErTJ"
      },
      "execution_count": null,
      "outputs": []
    },
    {
      "cell_type": "markdown",
      "source": [
        "<aside>\n",
        "💡 **Question 3**\n",
        "\n",
        "****Given a positive integer, N. Find the factorial of N.\n",
        "\n",
        "**Example 1:**\n",
        "\n",
        "Input: N = 5\n",
        "\n",
        "Output: 120\n",
        "\n",
        "**Example 2:**\n",
        "\n",
        "Input: N = 4\n",
        "\n",
        "Output: 24\n",
        "\n",
        "</aside>"
      ],
      "metadata": {
        "id": "yAxr1XsvE2Rt"
      }
    },
    {
      "cell_type": "code",
      "source": [
        "def factorial(N):\n",
        "    result = 1\n",
        "    for i in range(1, N+1):\n",
        "        result *= i\n",
        "    return result\n",
        "\n"
      ],
      "metadata": {
        "id": "49eqIPN5E6Rh"
      },
      "execution_count": 3,
      "outputs": []
    },
    {
      "cell_type": "markdown",
      "source": [
        "<aside>\n",
        "💡 **Question 4**\n",
        "\n",
        "Given a number N and a power P, the task is to find the exponent of this number raised to the given power, i.e. N^P.\n",
        "\n",
        "**Example 1 :**\n",
        "\n",
        "Input: N = 5, P = 2\n",
        "\n",
        "Output: 25\n",
        "\n",
        "**Example 2 :**\n",
        "Input: N = 2, P = 5\n",
        "\n",
        "Output: 32\n",
        "\n",
        "</aside>"
      ],
      "metadata": {
        "id": "9hqsGco_E5rP"
      }
    },
    {
      "cell_type": "code",
      "source": [
        "def power(N, P):\n",
        "    result = N ** P\n",
        "    return result\n",
        "\n"
      ],
      "metadata": {
        "id": "Yi4GirCrFIkI"
      },
      "execution_count": 4,
      "outputs": []
    },
    {
      "cell_type": "markdown",
      "source": [
        "<aside>\n",
        "💡 **Question 5**\n",
        "\n",
        "Given an array of integers **arr**, the task is to find maximum element of that array using recursion.\n",
        "\n",
        "**Example 1:**\n",
        "\n",
        "Input: arr = {1, 4, 3, -5, -4, 8, 6};\n",
        "Output: 8\n",
        "\n",
        "**Example 2:**\n",
        "\n",
        "Input: arr = {1, 4, 45, 6, 10, -8};\n",
        "Output: 45\n",
        "\n",
        "</aside>"
      ],
      "metadata": {
        "id": "lu94ps5aFQ3l"
      }
    },
    {
      "cell_type": "code",
      "source": [
        "def find_max(arr):\n",
        "    if len(arr) == 1:\n",
        "        return arr[0]\n",
        "    else:\n",
        "        mid = len(arr) // 2\n",
        "        left_max = find_max(arr[:mid])\n",
        "        right_max = find_max(arr[mid:])\n",
        "        return max(left_max, right_max)\n",
        "\n"
      ],
      "metadata": {
        "id": "LC5XIQ3AFPvy"
      },
      "execution_count": 5,
      "outputs": []
    },
    {
      "cell_type": "markdown",
      "source": [
        "<aside>\n",
        "💡 **Question 6**\n",
        "\n",
        "Given first term (a), common difference (d) and a integer N of the Arithmetic Progression series, the task is to find Nth term of the series.\n",
        "\n",
        "**Example 1:**\n",
        "\n",
        "Input : a = 2 d = 1 N = 5\n",
        "Output : 6\n",
        "The 5th term of the series is : 6\n",
        "\n",
        "**Example 2:**\n",
        "\n",
        "Input : a = 5 d = 2 N = 10\n",
        "Output : 23\n",
        "The 10th term of the series is : 23\n",
        "\n",
        "</aside>"
      ],
      "metadata": {
        "id": "E6XYKARLFbY8"
      }
    },
    {
      "cell_type": "code",
      "source": [
        "def find_nth_term(a, d, N):\n",
        "    return a + (N - 1) * d\n",
        "\n",
        "\n",
        "a1 = 2\n",
        "d1 = 1\n",
        "N1 = 5\n",
        "print(find_nth_term(a1, d1, N1))\n",
        "\n"
      ],
      "metadata": {
        "colab": {
          "base_uri": "https://localhost:8080/"
        },
        "id": "WNY7cxgoFasD",
        "outputId": "192ab23c-1edf-4dca-ee02-d690f5fe5136"
      },
      "execution_count": 6,
      "outputs": [
        {
          "output_type": "stream",
          "name": "stdout",
          "text": [
            "6\n"
          ]
        }
      ]
    },
    {
      "cell_type": "markdown",
      "source": [
        "<aside>\n",
        "💡 **Question 7**\n",
        "\n",
        "Given a string S, the task is to write a program to print all permutations of a given string.\n",
        "\n",
        "**Example 1:**\n",
        "\n",
        "***Input:***\n",
        "\n",
        "*S = “ABC”*\n",
        "\n",
        "***Output:***\n",
        "\n",
        "*“ABC”, “ACB”, “BAC”, “BCA”, “CBA”, “CAB”*\n",
        "\n",
        "**Example 2:**\n",
        "\n",
        "***Input:***\n",
        "\n",
        "*S = “XY”*\n",
        "\n",
        "***Output:***\n",
        "\n",
        "*“XY”, “YX”*\n",
        "\n",
        "</aside>"
      ],
      "metadata": {
        "id": "RYtJlXDAFpIM"
      }
    },
    {
      "cell_type": "code",
      "source": [
        "def permute(s):\n",
        "\n",
        "    if len(s) == 1:\n",
        "        return [s]\n",
        "\n",
        "\n",
        "    permutations = []\n",
        "    for i in range(len(s)):\n",
        "\n",
        "        first = s[i]\n",
        "\n",
        "\n",
        "        remaining = s[:i] + s[i+1:]\n",
        "        sub_permutations = permute(remaining)\n",
        "\n",
        "\n",
        "        for sub_permutation in sub_permutations:\n",
        "            permutations.append(first + sub_permutation)\n",
        "\n",
        "    return permutations\n",
        "\n",
        "s1 = \"ABC\"\n",
        "print(permute(s1))  # Output: ['ABC', 'ACB', 'BAC', 'BCA', 'CAB', 'CBA']\n",
        "\n",
        "\n"
      ],
      "metadata": {
        "colab": {
          "base_uri": "https://localhost:8080/"
        },
        "id": "0GGARa5iF1SM",
        "outputId": "9652f4ca-efaa-4545-e45b-40f0a3bbb686"
      },
      "execution_count": 7,
      "outputs": [
        {
          "output_type": "stream",
          "name": "stdout",
          "text": [
            "['ABC', 'ACB', 'BAC', 'BCA', 'CAB', 'CBA']\n"
          ]
        }
      ]
    },
    {
      "cell_type": "markdown",
      "source": [
        "<aside>\n",
        "💡 **Question 8**\n",
        "\n",
        "Given an array, find a product of all array elements.\n",
        "\n",
        "**Example 1:**\n",
        "\n",
        "Input  : arr[] = {1, 2, 3, 4, 5}\n",
        "Output : 120\n",
        "**Example 2:**\n",
        "\n",
        "Input  : arr[] = {1, 6, 3}\n",
        "Output : 18\n",
        "\n",
        "</aside>"
      ],
      "metadata": {
        "id": "tFjxKhQGF_YQ"
      }
    },
    {
      "cell_type": "code",
      "source": [
        "def product_of_array(arr):\n",
        "    product = 1\n",
        "    for num in arr:\n",
        "        product *= num\n",
        "    return product\n",
        "\n",
        "\n",
        "arr1 = [1, 2, 3, 4, 5]\n",
        "print(product_of_array(arr1))\n"
      ],
      "metadata": {
        "colab": {
          "base_uri": "https://localhost:8080/"
        },
        "id": "kh7ja788F-ur",
        "outputId": "bdd4df78-2dfd-4d73-b2d7-69ba5018f527"
      },
      "execution_count": 9,
      "outputs": [
        {
          "output_type": "stream",
          "name": "stdout",
          "text": [
            "120\n"
          ]
        }
      ]
    }
  ]
}